{
 "cells": [
  {
   "cell_type": "code",
   "execution_count": 1,
   "metadata": {},
   "outputs": [],
   "source": [
    "%load_ext autoreload\n",
    "%autoreload 2\n",
    "\n",
    "from main_huh import main, get_args\n",
    "import os"
   ]
  },
  {
   "cell_type": "code",
   "execution_count": 22,
   "metadata": {},
   "outputs": [
    {
     "name": "stdout",
     "output_type": "stream",
     "text": [
      "Namespace(architecture=[1, 28, 1], ctx_logging_levels=[], data_parallel=False, device=device(type='cuda', index=0), encoders=[None, None, None], first_order=False, for_iters=None, higher_flag=False, k_batch_test=None, k_batch_train=[5, 4], k_batch_valid=None, log_interval=100, log_name='experiment', loss_logging_levels=[], lrs=[0.05, 0.05], model_type='CAVIA', n_batch_test=None, n_batch_train=[5, 4], n_batch_valid=None, n_contexts=[2], n_iters=[3, 10], prefix='', save_path='/nobackup/users/benhuh/Projects/cavia/shared_results', seed=42, task='sine', test_interval=0, v_num=None, viz=False)\n",
      "experiment\n",
      "/nobackup/users/benhuh/Projects/cavia/shared_results/logs/experiment\n",
      "max_iters [3, 10]\n",
      "train [(0.990942339314793, 0.5761822607907845), (0.200864022049432, 3.0470616661964836), (0.864491338167939, 0.49007123908847783), (1.590786990501735, 1.648570950539833)]\n",
      "test [(2.2165305913463675, 0.9149233273574404), (4.178968939922067, 0.6670829901766624), (1.5315087778225691, 1.1509596754470768), (0.38460969962417735, 2.721172616281258)]\n",
      "valid [(3.0454635575417233, 2.224475608612444), (1.9352465823520764, 2.9867570806801083), (3.6867703148758855, 1.8807410959626114), (3.0980791841396598, 0.43823288784533293)]\n",
      "start model training\n",
      "> \u001b[0;32m/nobackup/users/benhuh/Projects/cavia/regression/hierarchical.py\u001b[0m(173)\u001b[0;36minitialize\u001b[0;34m()\u001b[0m\n",
      "\u001b[0;32m    171 \u001b[0;31m            \u001b[0;32melse\u001b[0m\u001b[0;34m:\u001b[0m \u001b[0;31m# use regular optim: for outer-loop\u001b[0m\u001b[0;34m\u001b[0m\u001b[0;34m\u001b[0m\u001b[0m\n",
      "\u001b[0m\u001b[0;32m    172 \u001b[0;31m                \u001b[0mset_trace\u001b[0m\u001b[0;34m(\u001b[0m\u001b[0;34m)\u001b[0m\u001b[0;34m\u001b[0m\u001b[0;34m\u001b[0m\u001b[0m\n",
      "\u001b[0m\u001b[0;32m--> 173 \u001b[0;31m                \u001b[0moptim\u001b[0m \u001b[0;34m=\u001b[0m \u001b[0moptimizer\u001b[0m\u001b[0;34m(\u001b[0m\u001b[0mparam_all\u001b[0m\u001b[0;34m[\u001b[0m\u001b[0mlevel\u001b[0m\u001b[0;34m]\u001b[0m\u001b[0;34m(\u001b[0m\u001b[0;34m)\u001b[0m\u001b[0;34m,\u001b[0m \u001b[0mlr\u001b[0m\u001b[0;34m=\u001b[0m\u001b[0mlr\u001b[0m\u001b[0;34m)\u001b[0m   \u001b[0;31m# outer-loop: regular optim\u001b[0m\u001b[0;34m\u001b[0m\u001b[0;34m\u001b[0m\u001b[0m\n",
      "\u001b[0m\u001b[0;32m    174 \u001b[0;31m\u001b[0;34m\u001b[0m\u001b[0m\n",
      "\u001b[0m\u001b[0;32m    175 \u001b[0;31m        \u001b[0;32mreturn\u001b[0m \u001b[0mparam_all\u001b[0m\u001b[0;34m,\u001b[0m \u001b[0moptim\u001b[0m\u001b[0;34m\u001b[0m\u001b[0;34m\u001b[0m\u001b[0m\n",
      "\u001b[0m\n"
     ]
    },
    {
     "name": "stdin",
     "output_type": "stream",
     "text": [
      "ipdb>  cont\n"
     ]
    },
    {
     "name": "stdout",
     "output_type": "stream",
     "text": [
      "optimize/lv1_task/train/lv0_task/train loss_final 0.7870330214500427\n",
      "optimize/lv1_task/train/lv0_task/train loss_final 1.4502296447753906\n",
      "optimize/lv1_task/train/lv0_task/train loss_final 0.2600858807563782\n",
      "optimize/lv1_task/train/lv0_task/train loss_final 2.686105489730835\n",
      "optimize/lv1_task/train/lv0_task/train loss_final 0.8500445485115051\n",
      "optimize/lv1_task/train/lv0_task/train loss_final 0.0743284523487091\n",
      "optimize/lv1_task/train/lv0_task/train loss_final 0.9483712315559387\n",
      "optimize/lv1_task/train/lv0_task/train loss_final 0.3211040496826172\n",
      "optimize/lv1_task/train/lv0_task/train loss_final 0.63457852602005\n",
      "optimize/lv1_task/train/lv0_task/train loss_final 0.18605878949165344\n",
      "optimize/lv1_task/train/lv0_task/train loss_final 0.3470713794231415\n",
      "optimize/lv1_task/train/lv0_task/train loss_final 2.037562131881714\n",
      "optimize/lv1_task/train/lv0_task/train loss_final 0.30934569239616394\n",
      "optimize/lv1_task/train/lv0_task/train loss_final 0.5465360879898071\n",
      "optimize/lv1_task/train/lv0_task/train loss_final 2.7317495346069336\n",
      "optimize/lv1_task/train/lv0_task/train loss_final 0.7191295027732849\n",
      "optimize/lv1_task/train/lv0_task/train loss_final 0.7281193137168884\n",
      "optimize/lv1_task/train/lv0_task/train loss_final 2.490553617477417\n",
      "optimize/lv1_task/train/lv0_task/train loss_final 0.5050383806228638\n",
      "optimize/lv1_task/train/lv0_task/train loss_final 0.34482094645500183\n",
      "optimize/lv1_task/train/lv0_task/train loss_final 0.6536895036697388\n",
      "optimize/lv1_task/train/lv0_task/train loss_final 0.35049358010292053\n",
      "optimize/lv1_task/train/lv0_task/train loss_final 1.8858718872070312\n",
      "optimize/lv1_task/train/lv0_task/train loss_final 0.2804265320301056\n",
      "optimize/lv1_task/train/lv0_task/train loss_final 0.20428673923015594\n",
      "optimize/lv1_task/train/lv0_task/train loss_final 0.20319293439388275\n",
      "optimize/lv1_task/train/lv0_task/train loss_final 1.345999836921692\n",
      "optimize/lv1_task/train/lv0_task/train loss_final 0.5910313129425049\n",
      "optimize/lv1_task/train/lv0_task/train loss_final 1.0028961896896362\n",
      "optimize/lv1_task/train/lv0_task/train loss_final 0.5787742137908936\n",
      "optimize/lv1_task/train/lv0_task/train loss_final 0.16360245645046234\n",
      "optimize/lv1_task/train/lv0_task/train loss_final 0.1144268736243248\n",
      "optimize/lv1_task/train/lv0_task/train loss_final 0.1531253159046173\n",
      "optimize/lv1_task/train/lv0_task/train loss_final 0.5998560190200806\n",
      "optimize/lv1_task/train/lv0_task/train loss_final 0.8581332564353943\n",
      "optimize/lv1_task/train/lv0_task/train loss_final 0.06861693412065506\n",
      "optimize/lv1_task/train/lv0_task/train loss_final 0.6272425055503845\n",
      "optimize/lv1_task/train/lv0_task/train loss_final 0.15588067471981049\n",
      "optimize/lv1_task/train/lv0_task/train loss_final 0.055137064307928085\n",
      "optimize/lv1_task/train/lv0_task/train loss_final 0.8558802008628845\n",
      "optimize/lv1_task/train loss_final 0.4082645773887634\n",
      "optimize/lv1_task/test/lv0_task/train loss_final 0.22718839347362518\n",
      "optimize/lv1_task/test/lv0_task/train loss_final 8.047703742980957\n",
      "optimize/lv1_task/test/lv0_task/train loss_final 2.0478553771972656\n",
      "optimize/lv1_task/test/lv0_task/train loss_final 2.317892074584961\n",
      "outer-loop idx 0 test loss 3.361260414123535\n",
      "Saving model\n"
     ]
    }
   ],
   "source": [
    "\n",
    "input_ = \"--task sine --n_contexts 2 --lrs 0.05 0.05 --n_iters 3 10 --k_batch_train 5 4 --n_batch_train 5 4 --architecture 1 28 1\"\n",
    "args = get_args(input_.split())\n",
    "# args.k_batch_train = [5, 4]\n",
    "# args.k_batch_test =  [5, 3]\n",
    "# args.k_batch_valid = [5, 2]\n",
    "# args.n_batch_train = [5, 4]\n",
    "# args.n_batch_test = [5, 3]\n",
    "# args.n_batch_valid = [5, 2]\n",
    "# args.for_iters = [ 1, 1 ]\n",
    "# args.lrs = [ 1.0, 0.01] \n",
    "# args.test_interval = 1 \n",
    "# args.ctx_logging_levels=[0,]\n",
    "\n",
    "# args.save_path = os.getcwd()\n",
    "\n",
    "print(args)\n",
    "\n",
    "main(args)\n"
   ]
  },
  {
   "cell_type": "code",
   "execution_count": null,
   "metadata": {},
   "outputs": [],
   "source": [
    "# def sine_gen(params):\n",
    "# #     return input_1d_gen, partial(sine1_fnc, params)\n",
    "#     return Task_sampler(task_fnc = partial(sine1_fnc, params), task_params = input_1d_gen, k_batches = k_lv0)\n",
    "\n",
    "# def line_gen(params):\n",
    "#     return Task_sampler(task_fnc = partial(line1_fnc, params), task_params = input_1d_gen, k_batches = k_lv0)\n",
    "\n"
   ]
  },
  {
   "cell_type": "code",
   "execution_count": 40,
   "metadata": {},
   "outputs": [],
   "source": [
    "from train_huh import get_task\n",
    "from test import *\n",
    "from dataset import Hierarchical_Task\n",
    "from functools import partial\n",
    "\n",
    "_, batch_dict = get_task(args)\n",
    "\n",
    "\n",
    "k_lv1 =  [3,2,0]\n",
    "k_lv0 =  [5,4,0]\n",
    "\n",
    "\n",
    "###########################\n",
    "# Level0\n",
    "\n",
    "def sine1_fnc(params, x):\n",
    "    amplitude, phase = params\n",
    "    return np.sin(x - phase) * amplitude\n",
    "\n",
    "def line1_fnc(params, x):\n",
    "    slope, bias = params\n",
    "    return slope * x + bias\n",
    "\n",
    "def lv0_task(task_fnc, input_fnc, k_lv0):\n",
    "    def fnc_(params):\n",
    "        return Task_sampler(task_fnc = partial(task_fnc, params), task_params = input_fnc, k_batches = k_lv0)\n",
    "    return fnc_\n",
    "\n",
    "sine0_task = lv0_task(sine1_fnc, input_1d_gen, k_lv0)\n",
    "line0_task = lv0_task(line1_fnc, input_1d_gen, k_lv0)\n",
    "###########################\n",
    "# Level1\n",
    "sine1_task = Task_sampler(task_fnc = sine0_task, task_params = sine_param_gen, k_batches = k_lv1)\n",
    "line1_task = Task_sampler(task_fnc = line0_task, task_params = line_param_gen, k_batches = k_lv1)\n",
    "\n",
    "###########################\n",
    "# Level2\n",
    "sine_line2_dict = {'sine': sine1_task, 'line': line1_task}\n",
    "sine_line2_task = Task_sampler(task_fnc = sine_line2_dict, task_params = None, k_batches = None)\n",
    "\n",
    "supertask = Hierarchical_Task(sine_line2_task, batch_dict=batch_dict, idx=0)\n"
   ]
  },
  {
   "cell_type": "code",
   "execution_count": 41,
   "metadata": {},
   "outputs": [
    {
     "data": {
      "text/plain": [
       "(tensor([[-3.3697],\n",
       "         [ 3.1030],\n",
       "         [ 1.6098],\n",
       "         [ 3.9108],\n",
       "         [-2.7181]]), tensor([[ 1.5345],\n",
       "         [ 0.9682],\n",
       "         [ 3.1639],\n",
       "         [-1.5699],\n",
       "         [-0.5145]]))"
      ]
     },
     "execution_count": 41,
     "metadata": {},
     "output_type": "execute_result"
    }
   ],
   "source": [
    "supertask.loader_dict['train'].dataset[0].loader_dict['train'].dataset[0][1].get_data('train')"
   ]
  },
  {
   "cell_type": "code",
   "execution_count": 31,
   "metadata": {},
   "outputs": [
    {
     "name": "stdout",
     "output_type": "stream",
     "text": [
      "sine\n",
      "functools.partial(<function fn2 at 0x7fdea084d560>, 'sine')\n"
     ]
    },
    {
     "ename": "TypeError",
     "evalue": "cannot unpack non-iterable functools.partial object",
     "output_type": "error",
     "traceback": [
      "\u001b[0;31m---------------------------------------------------------------------------\u001b[0m",
      "\u001b[0;31mTypeError\u001b[0m                                 Traceback (most recent call last)",
      "\u001b[0;32m<ipython-input-31-7779fa702e69>\u001b[0m in \u001b[0;36m<module>\u001b[0;34m\u001b[0m\n\u001b[1;32m     53\u001b[0m \u001b[0mout1\u001b[0m\u001b[0;34m=\u001b[0m \u001b[0mpartial\u001b[0m\u001b[0;34m(\u001b[0m\u001b[0mfn2\u001b[0m\u001b[0;34m,\u001b[0m\u001b[0min2\u001b[0m\u001b[0;34m)\u001b[0m\u001b[0;34m\u001b[0m\u001b[0;34m\u001b[0m\u001b[0m\n\u001b[1;32m     54\u001b[0m \u001b[0mprint\u001b[0m\u001b[0;34m(\u001b[0m\u001b[0mout1\u001b[0m\u001b[0;34m)\u001b[0m\u001b[0;34m\u001b[0m\u001b[0;34m\u001b[0m\u001b[0m\n\u001b[0;32m---> 55\u001b[0;31m \u001b[0mfn1\u001b[0m\u001b[0;34m,\u001b[0m \u001b[0min1_fnc\u001b[0m \u001b[0;34m=\u001b[0m \u001b[0mout1\u001b[0m\u001b[0;34m\u001b[0m\u001b[0;34m\u001b[0m\u001b[0m\n\u001b[0m\u001b[1;32m     56\u001b[0m \u001b[0;31m# fn2= sine_line2_fnc(in2)\u001b[0m\u001b[0;34m\u001b[0m\u001b[0;34m\u001b[0m\u001b[0;34m\u001b[0m\u001b[0m\n\u001b[1;32m     57\u001b[0m \u001b[0;31m# print(fn2)\u001b[0m\u001b[0;34m\u001b[0m\u001b[0;34m\u001b[0m\u001b[0;34m\u001b[0m\u001b[0m\n",
      "\u001b[0;31mTypeError\u001b[0m: cannot unpack non-iterable functools.partial object"
     ]
    }
   ],
   "source": [
    "\n",
    "\n",
    "def in2_fnc(batch):\n",
    "    return random.choice(['sine', 'line'])\n",
    "\n",
    "in1_fnc = sine_param_gen\n",
    "in0_fnc = input_1d_gen\n",
    "\n",
    "# def fn2(params):\n",
    "#     return {'sine': sine1_fnc, 'line': line1_fnc}[params]\n",
    "\n",
    "# in2 = in2_fnc(1)\n",
    "# print(in2)\n",
    "# out2= fn2(in2)\n",
    "# fn1 = out2\n",
    "# print(fn1)\n",
    "\n",
    "# in1 = in1_fnc(2)\n",
    "# print(in1)\n",
    "# fn0 = partial(fn1,in1[0])\n",
    "# print(fn1)\n",
    "\n",
    "# in0 = in0_fnc(3)\n",
    "# out0 = fn0(in0)\n",
    "# print(out0)\n",
    "\n",
    "#######################################################\n",
    "\n",
    "# def fn2(params2, params1, x):\n",
    "#     return {'sine': sine1_fnc(params1, x), 'line': line1_fnc(params1, x)}[params2]\n",
    "\n",
    "# in2 = in2_fnc(1)\n",
    "# print(in2)\n",
    "# out1= partial(fn2,in2)\n",
    "# print(out1)\n",
    "# fn1 = out1\n",
    "\n",
    "# in1 = in1_fnc(2)\n",
    "# print(in1)\n",
    "# fn0 = partial(fn1,in1[0])\n",
    "# print(fn1)\n",
    "\n",
    "# in0 = in0_fnc(3)\n",
    "\n",
    "# print(fn0(in0))\n",
    "\n",
    "#######################################################\n",
    "\n",
    "        \n",
    "\n",
    "def fn2(params2, params1, x):\n",
    "    return {'sine': (sine1_fnc(params1, x), sine_param_gen), 'line': (line1_fnc(params1, x), line_param_gen)}[params2]\n",
    "\n",
    "def fn_in2(params2, params1, x):\n",
    "    fn_ = {'sine': sine1_fnc(params1, x), 'line': line1_fnc(params1, x)}[params2]\n",
    "    in_ = {'sine': sine_param_gen, 'line': line_param_gen}[params2]\n",
    "    return fn_, in_\n",
    "\n",
    "partial(fn_in2, params2) = partial(fn_, params2), partial(fn_, params2), \n",
    "\n",
    "\n",
    "in2 = in2_fnc(1)\n",
    "print(in2)\n",
    "out1= partial(fn2,in2)\n",
    "print(out1)\n",
    "fn1, in1_fnc = out1\n",
    "# fn2= sine_line2_fnc(in2)\n",
    "# print(fn2)\n",
    "\n",
    "# in1_fnc = sine_param_gen\n",
    "in1 = in1_fnc(2)\n",
    "print(in1)\n",
    "fn0 = partial(fn1,in1[0])\n",
    "print(fn1)\n",
    "\n",
    "in0 = input_1d_gen(3)\n",
    "\n",
    "print(fn0(in0))\n",
    "\n",
    "# # def lv3_fnc():\n",
    "# #     return sine_line2_fnc, in2_fnc\n",
    "\n",
    "# # sineline2_task = lv0_task(sine_line2_fnc, in2_fnc, [2,0,0])\n",
    "\n",
    "# # fn2, in2_fnc = lv3_fnc()\n",
    "\n",
    "# in2 = in2_fnc(1)\n",
    "# print(in2)\n",
    "# out1= partial(fn2,in2)\n",
    "# print(out1)\n",
    "# fn1, in1_fnc = out1\n",
    "# # fn2= sine_line2_fnc(in2)\n",
    "# # print(fn2)\n",
    "\n",
    "# # in1_fnc = sine_param_gen\n",
    "# in1 = in1_fnc(2)\n",
    "# print(in1)\n",
    "# fn0 = partial(fn1,in1[0])\n",
    "# print(fn1)\n",
    "\n",
    "# in0 = input_1d_gen(3)\n",
    "\n",
    "# print(fn0(in0))\n"
   ]
  },
  {
   "cell_type": "raw",
   "metadata": {},
   "source": [
    "p2, fnc2 = sineline2_task.get_data('train')\n",
    "# p2, fnc2 = sine_line2_task.get_data('train')\n",
    "print(p2)\n",
    "p1, fnc1 = fnc2[0].get_data('train')\n",
    "print(p1)\n",
    "p0, y0 =  fnc1[0].get_data('train')\n",
    "print(p0)\n"
   ]
  },
  {
   "cell_type": "code",
   "execution_count": 91,
   "metadata": {},
   "outputs": [
    {
     "name": "stdout",
     "output_type": "stream",
     "text": [
      "line\n",
      "<function out_fnc2.<locals>.line_gen at 0x7fc33063a0e0>\n",
      "<function out_fnc2.<locals>.in_fnc1 at 0x7fc2c001b4d0>\n",
      "(array([0.05188082]), array([0.82568739]))\n"
     ]
    }
   ],
   "source": [
    "from functools import partial\n",
    "\n",
    "\n",
    "def in_fnc2(batch):\n",
    "    return random.choice(['sine', 'line'])\n",
    "    \n",
    "\n",
    "# def out_fnc2(params):\n",
    "#     dict_ = {'sine': sine_gen ,'line': line_gen}\n",
    "#     return dict_[params]\n",
    "    \n",
    "def out_fnc2(params2):\n",
    "    \n",
    "    def in_fnc1(batch):\n",
    "        return np.random.rand(batch), np.random.rand(batch)\n",
    "    \n",
    "    def sine_gen(params1):\n",
    "\n",
    "        def out_fnc1(params, x):\n",
    "            amplitude, phase = params\n",
    "            return np.sin(x - phase) * amplitude\n",
    "\n",
    "        return in_fnc1, partial(out_fnc1, params1)\n",
    "\n",
    "    def line_gen(params1):\n",
    "\n",
    "#         def in_fnc1(params, batch):\n",
    "#             return np.random.rand(batch), np.random.rand(batch)\n",
    "        def out_fnc1(params, x):\n",
    "            slope, bias = params\n",
    "            return slope * x + bias\n",
    "\n",
    "        return partial(in_fnc1, params1), partial(out_fnc1, params1)\n",
    "    \n",
    "    dict_ = {'sine': sine_gen ,'line': line_gen}\n",
    "    return in_fnc1, dict_[params2]        \n",
    "    \n",
    "    \n",
    "#     return partial(in_fnc2, params2), partial(out_fnc2, params2)\n",
    "#     return partial(out_fnc2, params2)\n",
    "#     return out_fnc2(params2)\n",
    "\n",
    "###########################\n",
    "\n",
    "\n",
    "\n",
    "in2 = in_fnc2(1)\n",
    "print(in2)\n",
    "in_fnc1, fn2 = out_fnc2(in2)\n",
    "print(fn2)\n",
    "print(in_fnc1)\n",
    "in1 = in_fnc1(1)\n",
    "print(in1)\n",
    "in0, fn1 = fn2(in1)\n"
   ]
  },
  {
   "cell_type": "code",
   "execution_count": 77,
   "metadata": {},
   "outputs": [
    {
     "ename": "TypeError",
     "evalue": "'str' object is not callable",
     "output_type": "error",
     "traceback": [
      "\u001b[0;31m---------------------------------------------------------------------------\u001b[0m",
      "\u001b[0;31mTypeError\u001b[0m                                 Traceback (most recent call last)",
      "\u001b[0;32m<ipython-input-77-fa5fc90c0ce9>\u001b[0m in \u001b[0;36m<module>\u001b[0;34m\u001b[0m\n\u001b[0;32m----> 1\u001b[0;31m \u001b[0mp1\u001b[0m \u001b[0;34m=\u001b[0m \u001b[0min2\u001b[0m\u001b[0;34m(\u001b[0m\u001b[0;36m1\u001b[0m\u001b[0;34m)\u001b[0m\u001b[0;34m\u001b[0m\u001b[0;34m\u001b[0m\u001b[0m\n\u001b[0m\u001b[1;32m      2\u001b[0m \u001b[0min1\u001b[0m\u001b[0;34m,\u001b[0m \u001b[0mfn1\u001b[0m \u001b[0;34m=\u001b[0m \u001b[0mfn2\u001b[0m\u001b[0;34m(\u001b[0m\u001b[0mp1\u001b[0m\u001b[0;34m)\u001b[0m\u001b[0;34m(\u001b[0m\u001b[0;32mNone\u001b[0m\u001b[0;34m)\u001b[0m\u001b[0;34m\u001b[0m\u001b[0;34m\u001b[0m\u001b[0m\n\u001b[1;32m      3\u001b[0m \u001b[0mprint\u001b[0m\u001b[0;34m(\u001b[0m\u001b[0min1\u001b[0m\u001b[0;34m)\u001b[0m\u001b[0;34m\u001b[0m\u001b[0;34m\u001b[0m\u001b[0m\n\u001b[1;32m      4\u001b[0m \u001b[0mprint\u001b[0m\u001b[0;34m(\u001b[0m\u001b[0mfn1\u001b[0m\u001b[0;34m)\u001b[0m\u001b[0;34m\u001b[0m\u001b[0;34m\u001b[0m\u001b[0m\n",
      "\u001b[0;31mTypeError\u001b[0m: 'str' object is not callable"
     ]
    }
   ],
   "source": [
    "p1 = in2(1)\n",
    "in1, fn1 = fn2(p1)(None)\n",
    "print(in1)\n",
    "print(fn1)\n"
   ]
  },
  {
   "cell_type": "code",
   "execution_count": 68,
   "metadata": {},
   "outputs": [
    {
     "name": "stdout",
     "output_type": "stream",
     "text": [
      "[0.49798632] [0.68617783]\n"
     ]
    },
    {
     "ename": "TypeError",
     "evalue": "cannot unpack non-iterable NoneType object",
     "output_type": "error",
     "traceback": [
      "\u001b[0;31m---------------------------------------------------------------------------\u001b[0m",
      "\u001b[0;31mTypeError\u001b[0m                                 Traceback (most recent call last)",
      "\u001b[0;32m<ipython-input-68-17931a13be6a>\u001b[0m in \u001b[0;36m<module>\u001b[0;34m\u001b[0m\n\u001b[1;32m      2\u001b[0m \u001b[0mamplitude\u001b[0m\u001b[0;34m,\u001b[0m \u001b[0mphase\u001b[0m \u001b[0;34m=\u001b[0m \u001b[0mp0\u001b[0m\u001b[0;34m\u001b[0m\u001b[0;34m\u001b[0m\u001b[0m\n\u001b[1;32m      3\u001b[0m \u001b[0mprint\u001b[0m\u001b[0;34m(\u001b[0m\u001b[0mamplitude\u001b[0m\u001b[0;34m,\u001b[0m \u001b[0mphase\u001b[0m\u001b[0;34m)\u001b[0m\u001b[0;34m\u001b[0m\u001b[0;34m\u001b[0m\u001b[0m\n\u001b[0;32m----> 4\u001b[0;31m \u001b[0mfn1\u001b[0m\u001b[0;34m(\u001b[0m\u001b[0;34m(\u001b[0m\u001b[0mamplitude\u001b[0m\u001b[0;34m,\u001b[0m \u001b[0mphase\u001b[0m\u001b[0;34m)\u001b[0m\u001b[0;34m)\u001b[0m\u001b[0;34m\u001b[0m\u001b[0;34m\u001b[0m\u001b[0m\n\u001b[0m\u001b[1;32m      5\u001b[0m \u001b[0;31m# in1, fn1 = fn1(p0)(None)\u001b[0m\u001b[0;34m\u001b[0m\u001b[0;34m\u001b[0m\u001b[0;34m\u001b[0m\u001b[0m\n\u001b[1;32m      6\u001b[0m \u001b[0;31m# print(in1)\u001b[0m\u001b[0;34m\u001b[0m\u001b[0;34m\u001b[0m\u001b[0;34m\u001b[0m\u001b[0m\n",
      "\u001b[0;32m<ipython-input-61-b199e8c05895>\u001b[0m in \u001b[0;36mout_fnc1\u001b[0;34m(params, x)\u001b[0m\n\u001b[1;32m      9\u001b[0m             \u001b[0;32mreturn\u001b[0m \u001b[0mnp\u001b[0m\u001b[0;34m.\u001b[0m\u001b[0mrandom\u001b[0m\u001b[0;34m.\u001b[0m\u001b[0mrand\u001b[0m\u001b[0;34m(\u001b[0m\u001b[0mbatch\u001b[0m\u001b[0;34m)\u001b[0m\u001b[0;34m,\u001b[0m \u001b[0mnp\u001b[0m\u001b[0;34m.\u001b[0m\u001b[0mrandom\u001b[0m\u001b[0;34m.\u001b[0m\u001b[0mrand\u001b[0m\u001b[0;34m(\u001b[0m\u001b[0mbatch\u001b[0m\u001b[0;34m)\u001b[0m\u001b[0;34m\u001b[0m\u001b[0;34m\u001b[0m\u001b[0m\n\u001b[1;32m     10\u001b[0m         \u001b[0;32mdef\u001b[0m \u001b[0mout_fnc1\u001b[0m\u001b[0;34m(\u001b[0m\u001b[0mparams\u001b[0m\u001b[0;34m,\u001b[0m \u001b[0mx\u001b[0m\u001b[0;34m)\u001b[0m\u001b[0;34m:\u001b[0m\u001b[0;34m\u001b[0m\u001b[0;34m\u001b[0m\u001b[0m\n\u001b[0;32m---> 11\u001b[0;31m             \u001b[0mamplitude\u001b[0m\u001b[0;34m,\u001b[0m \u001b[0mphase\u001b[0m \u001b[0;34m=\u001b[0m \u001b[0mparams\u001b[0m\u001b[0;34m\u001b[0m\u001b[0;34m\u001b[0m\u001b[0m\n\u001b[0m\u001b[1;32m     12\u001b[0m             \u001b[0;32mreturn\u001b[0m \u001b[0mnp\u001b[0m\u001b[0;34m.\u001b[0m\u001b[0msin\u001b[0m\u001b[0;34m(\u001b[0m\u001b[0mx\u001b[0m \u001b[0;34m-\u001b[0m \u001b[0mphase\u001b[0m\u001b[0;34m)\u001b[0m \u001b[0;34m*\u001b[0m \u001b[0mamplitude\u001b[0m\u001b[0;34m\u001b[0m\u001b[0;34m\u001b[0m\u001b[0m\n\u001b[1;32m     13\u001b[0m \u001b[0;34m\u001b[0m\u001b[0m\n",
      "\u001b[0;31mTypeError\u001b[0m: cannot unpack non-iterable NoneType object"
     ]
    }
   ],
   "source": [
    "p0 = in1(1)\n",
    "amplitude, phase = p0\n",
    "print(amplitude, phase)\n",
    "fn1((amplitude, phase))\n",
    "# in1, fn1 = fn1(p0)(None)\n",
    "# print(in1)\n",
    "# print(fn1)\n"
   ]
  },
  {
   "cell_type": "code",
   "execution_count": null,
   "metadata": {},
   "outputs": [],
   "source": [
    "\n",
    "# level 2: label  ->  sine, linear, \n",
    "# level 1: coeffs ->  sine(c1), sine(c2), \n",
    "# level 0: x      ->  sine(c1)(x1,x2,...), sine(c2)(x1,x2,...) \n",
    "\n",
    "\n",
    "lv2_fnc(name='sine')(slope=2, bias=1)(x=0.5)\n",
    "\n",
    "lv2_fnc(name='sine') ->  lv2_param_gen = ['sine','linear'] + lv2_task = dict_\n",
    "\n",
    "lv2_task(lv2_param) ->  lv1_param_gen (slope/bias) + lv1_task:  -> \n",
    "\n",
    "lv1_task(lv1_param)  ->  lv0_param_gen (x) + lv0_task\n",
    "\n",
    "lv0_task(lv0_x)      ->  lv0_y\n",
    "\n",
    "lv0_target = lv0_fnc(lv0_x_gen)"
   ]
  },
  {
   "cell_type": "code",
   "execution_count": 20,
   "metadata": {},
   "outputs": [
    {
     "name": "stdout",
     "output_type": "stream",
     "text": [
      "['linear', 'sine']\n",
      "['linear', 'sine']\n",
      "[<bound method Task_sampler.sample of <test.Task_sampler object at 0x7fc2c0034390>>, <bound method Task_sampler.sample of <test.Task_sampler object at 0x7fc2c0034290>>]\n"
     ]
    },
    {
     "data": {
      "text/plain": [
       "<bound method Task_sampler.sample of <test.Task_sampler object at 0x7fc2c0034390>>"
      ]
     },
     "execution_count": 20,
     "metadata": {},
     "output_type": "execute_result"
    }
   ],
   "source": [
    "fnc_dict = {'linear': sample_sin_fnc, 'sine': sample_linear_fnc }\n",
    "print(list(fnc_dict))\n",
    "# in_ = list(fnc_dict.keys())\n",
    "print(list(fnc_dict.keys()))\n",
    "print(list(fnc_dict.values()))\n",
    "\n",
    "fnc = fnc_dict.get\n",
    "fnc('linear')"
   ]
  },
  {
   "cell_type": "code",
   "execution_count": 17,
   "metadata": {},
   "outputs": [
    {
     "data": {
      "text/plain": [
       "tensor([[-3.8985],\n",
       "        [ 0.3744],\n",
       "        [-2.1175],\n",
       "        [-4.7005],\n",
       "        [-3.5485]])"
      ]
     },
     "execution_count": 17,
     "metadata": {},
     "output_type": "execute_result"
    }
   ],
   "source": [
    "input_1d_gen(5)"
   ]
  },
  {
   "cell_type": "code",
   "execution_count": 209,
   "metadata": {},
   "outputs": [
    {
     "name": "stdout",
     "output_type": "stream",
     "text": [
      "[tensor([[ 2.1429],\n",
      "        [-2.1429],\n",
      "        [-5.0000],\n",
      "        [ 0.7143],\n",
      "        [ 5.0000]]), tensor([[ 11.0295],\n",
      "        [ -6.5984],\n",
      "        [-18.3504],\n",
      "        [  5.1535],\n",
      "        [ 22.7815]])]\n"
     ]
    }
   ],
   "source": [
    "tasks1 = next(iter(supertask.load('train')))\n",
    "tasks0 = next(iter(tasks1[0].load('train')))\n",
    "print(tasks0)"
   ]
  },
  {
   "cell_type": "code",
   "execution_count": 9,
   "metadata": {},
   "outputs": [],
   "source": [
    "\n",
    "import torchvision.datasets as datasets\n",
    "\n",
    "data_dir    = '/nobackup/users/benhuh/data/' \n",
    "train_imgs = datasets.MNIST(data_dir, train=True, transform=[], download=True)"
   ]
  },
  {
   "cell_type": "code",
   "execution_count": 32,
   "metadata": {
    "collapsed": true,
    "jupyter": {
     "outputs_hidden": true
    }
   },
   "outputs": [
    {
     "name": "stdout",
     "output_type": "stream",
     "text": [
      "Namespace(architecture=[1, 28, 1], classes=[0], ctx_logging_levels=[0], data_parallel=False, device=device(type='cuda', index=0), encoders=[None, None, None], first_order=False, for_iters=[5, 3, 1], higher_flag=False, k_batch_test=[10, 3, 2], k_batch_train=[10, 3, 2], k_batch_valid=[10, 3, 2], load_model='', log_interval=50, log_name=None, lrs=[1.0, 0.0, 0.001], model_type='CAVIA', n_batch_test=[10, 3, 2], n_batch_train=[10, 3, 2], n_batch_valid=[10, 3, 2], n_contexts=[3, 2], n_iters=[10, 10, 20], prefix='', save_path='/nobackup/users/benhuh/Projects/cavia/shared_results', seed=42, task='sine+linear', test_interval=100, v_num=None, viz=False)\n",
      "sine+linear\n",
      "/nobackup/users/benhuh/Projects/cavia/shared_results/logs/sine+linear\n",
      "max_iters [10, 10, 20]\n",
      "level 2\n",
      "batch 2\n",
      "task <bound method Label_pre_sampler.sample of <task.make_tasks_new.Label_pre_sampler object at 0x2000afe3af10>>\n",
      "> \u001b[0;32m/nobackup/users/benhuh/Projects/cavia/regression/dataset.py\u001b[0m(112)\u001b[0;36m__init__\u001b[0;34m()\u001b[0m\n",
      "\u001b[0;32m    110 \u001b[0;31m        \u001b[0mset_trace\u001b[0m\u001b[0;34m(\u001b[0m\u001b[0;34m)\u001b[0m\u001b[0;34m\u001b[0m\u001b[0;34m\u001b[0m\u001b[0m\n",
      "\u001b[0m\u001b[0;32m    111 \u001b[0;31m\u001b[0;34m\u001b[0m\u001b[0m\n",
      "\u001b[0m\u001b[0;32m--> 112 \u001b[0;31m        \u001b[0mself\u001b[0m\u001b[0;34m.\u001b[0m\u001b[0mloader_dict\u001b[0m \u001b[0;34m=\u001b[0m \u001b[0mget_dataloader_dict\u001b[0m\u001b[0;34m(\u001b[0m\u001b[0mlevel\u001b[0m\u001b[0;34m,\u001b[0m \u001b[0mtask\u001b[0m\u001b[0;34m,\u001b[0m \u001b[0mbatch_dict\u001b[0m\u001b[0;34m,\u001b[0m \u001b[0midx\u001b[0m\u001b[0;34m)\u001b[0m\u001b[0;34m\u001b[0m\u001b[0;34m\u001b[0m\u001b[0m\n",
      "\u001b[0m\u001b[0;32m    113 \u001b[0;31m\u001b[0;34m\u001b[0m\u001b[0m\n",
      "\u001b[0m\u001b[0;32m    114 \u001b[0;31m        \u001b[0;32mif\u001b[0m \u001b[0mprint_task_loader\u001b[0m\u001b[0;34m:\u001b[0m\u001b[0;34m\u001b[0m\u001b[0;34m\u001b[0m\u001b[0m\n",
      "\u001b[0m\n"
     ]
    },
    {
     "name": "stdin",
     "output_type": "stream",
     "text": [
      "ipdb>  cont\n"
     ]
    },
    {
     "name": "stdout",
     "output_type": "stream",
     "text": [
      "level 2 type train\n",
      "> \u001b[0;32m/nobackup/users/benhuh/Projects/cavia/regression/task/make_tasks_new.py\u001b[0m(31)\u001b[0;36msample\u001b[0;34m()\u001b[0m\n",
      "\u001b[0;32m     29 \u001b[0;31m    \u001b[0;32mdef\u001b[0m \u001b[0msample\u001b[0m\u001b[0;34m(\u001b[0m\u001b[0mself\u001b[0m\u001b[0;34m,\u001b[0m \u001b[0msample_type\u001b[0m\u001b[0;34m)\u001b[0m\u001b[0;34m:\u001b[0m\u001b[0;34m\u001b[0m\u001b[0;34m\u001b[0m\u001b[0m\n",
      "\u001b[0m\u001b[0;32m     30 \u001b[0;31m        \u001b[0mset_trace\u001b[0m\u001b[0;34m(\u001b[0m\u001b[0;34m)\u001b[0m\u001b[0;34m\u001b[0m\u001b[0;34m\u001b[0m\u001b[0m\n",
      "\u001b[0m\u001b[0;32m---> 31 \u001b[0;31m        \u001b[0;32mreturn\u001b[0m \u001b[0mself\u001b[0m\u001b[0;34m.\u001b[0m\u001b[0mlabel_dict\u001b[0m\u001b[0;34m[\u001b[0m\u001b[0msample_type\u001b[0m\u001b[0;34m]\u001b[0m\u001b[0;34m\u001b[0m\u001b[0;34m\u001b[0m\u001b[0m\n",
      "\u001b[0m\u001b[0;32m     32 \u001b[0;31m\u001b[0;34m\u001b[0m\u001b[0m\n",
      "\u001b[0m\u001b[0;32m     33 \u001b[0;31m\u001b[0;34m\u001b[0m\u001b[0m\n",
      "\u001b[0m\n"
     ]
    },
    {
     "name": "stdin",
     "output_type": "stream",
     "text": [
      "ipdb>  self.label_list\n"
     ]
    },
    {
     "name": "stdout",
     "output_type": "stream",
     "text": [
      "[<function sample_sin_fnc at 0x20000b76eef0>, <function sample_linear_fnc at 0x2000afd1a680>]\n"
     ]
    },
    {
     "name": "stdin",
     "output_type": "stream",
     "text": [
      "ipdb>  self.label_dict\n"
     ]
    },
    {
     "name": "stdout",
     "output_type": "stream",
     "text": [
      "{'train': [<function sample_sin_fnc at 0x20000b76eef0>, <function sample_linear_fnc at 0x2000afd1a680>], 'test': [<function sample_sin_fnc at 0x20000b76eef0>, <function sample_linear_fnc at 0x2000afd1a680>], 'valid': [<function sample_sin_fnc at 0x20000b76eef0>, <function sample_linear_fnc at 0x2000afd1a680>]}\n"
     ]
    },
    {
     "name": "stdin",
     "output_type": "stream",
     "text": [
      "ipdb>  q\n"
     ]
    },
    {
     "ename": "BdbQuit",
     "evalue": "",
     "output_type": "error",
     "traceback": [
      "\u001b[0;31m---------------------------------------------------------------------------\u001b[0m",
      "\u001b[0;31mBdbQuit\u001b[0m                                   Traceback (most recent call last)",
      "\u001b[0;32m<ipython-input-32-c2ae46f1ab5e>\u001b[0m in \u001b[0;36m<module>\u001b[0;34m\u001b[0m\n\u001b[1;32m     24\u001b[0m \u001b[0mprint\u001b[0m\u001b[0;34m(\u001b[0m\u001b[0margs\u001b[0m\u001b[0;34m)\u001b[0m\u001b[0;34m\u001b[0m\u001b[0;34m\u001b[0m\u001b[0m\n\u001b[1;32m     25\u001b[0m \u001b[0;34m\u001b[0m\u001b[0m\n\u001b[0;32m---> 26\u001b[0;31m \u001b[0mmain\u001b[0m\u001b[0;34m(\u001b[0m\u001b[0margs\u001b[0m\u001b[0;34m)\u001b[0m\u001b[0;34m\u001b[0m\u001b[0;34m\u001b[0m\u001b[0m\n\u001b[0m",
      "\u001b[0;32m/nobackup/users/benhuh/Projects/cavia/regression/main_huh.py\u001b[0m in \u001b[0;36mmain\u001b[0;34m(hparams)\u001b[0m\n\u001b[1;32m     30\u001b[0m     \u001b[0mlogger\u001b[0m\u001b[0;34m.\u001b[0m\u001b[0mlog_hyperparams\u001b[0m\u001b[0;34m(\u001b[0m\u001b[0mhparams\u001b[0m\u001b[0;34m)\u001b[0m\u001b[0;34m\u001b[0m\u001b[0;34m\u001b[0m\u001b[0m\n\u001b[1;32m     31\u001b[0m \u001b[0;34m\u001b[0m\u001b[0m\n\u001b[0;32m---> 32\u001b[0;31m     \u001b[0mrun\u001b[0m\u001b[0;34m(\u001b[0m\u001b[0mhparams\u001b[0m\u001b[0;34m,\u001b[0m \u001b[0mlogger\u001b[0m\u001b[0;34m)\u001b[0m         \u001b[0;31m# Start train\u001b[0m\u001b[0;34m\u001b[0m\u001b[0;34m\u001b[0m\u001b[0m\n\u001b[0m\u001b[1;32m     33\u001b[0m \u001b[0;34m\u001b[0m\u001b[0m\n\u001b[1;32m     34\u001b[0m \u001b[0;34m\u001b[0m\u001b[0m\n",
      "\u001b[0;32m/nobackup/users/benhuh/Projects/cavia/regression/train_huh.py\u001b[0m in \u001b[0;36mrun\u001b[0;34m(hparams, logger)\u001b[0m\n\u001b[1;32m     95\u001b[0m         \u001b[0mmodel\u001b[0m \u001b[0;34m=\u001b[0m \u001b[0mload_model\u001b[0m\u001b[0;34m(\u001b[0m\u001b[0mmodel\u001b[0m\u001b[0;34m,\u001b[0m \u001b[0msave_dir\u001b[0m\u001b[0;34m,\u001b[0m \u001b[0mhparams\u001b[0m\u001b[0;34m.\u001b[0m\u001b[0mlog_name\u001b[0m\u001b[0;34m)\u001b[0m\u001b[0;34m\u001b[0m\u001b[0;34m\u001b[0m\u001b[0m\n\u001b[1;32m     96\u001b[0m     \u001b[0mtask_func\u001b[0m\u001b[0;34m,\u001b[0m \u001b[0mbatch_dict\u001b[0m \u001b[0;34m=\u001b[0m \u001b[0mget_task\u001b[0m\u001b[0;34m(\u001b[0m\u001b[0mhparams\u001b[0m\u001b[0;34m)\u001b[0m\u001b[0;34m\u001b[0m\u001b[0;34m\u001b[0m\u001b[0m\n\u001b[0;32m---> 97\u001b[0;31m     \u001b[0msupertask\u001b[0m \u001b[0;34m=\u001b[0m \u001b[0mHierarchical_Task\u001b[0m\u001b[0;34m(\u001b[0m\u001b[0mtask_func\u001b[0m\u001b[0;34m,\u001b[0m \u001b[0mbatch_dict\u001b[0m\u001b[0;34m=\u001b[0m\u001b[0mbatch_dict\u001b[0m\u001b[0;34m,\u001b[0m \u001b[0midx\u001b[0m\u001b[0;34m=\u001b[0m\u001b[0;36m0\u001b[0m\u001b[0;34m)\u001b[0m\u001b[0;34m\u001b[0m\u001b[0;34m\u001b[0m\u001b[0m\n\u001b[0m\u001b[1;32m     98\u001b[0m \u001b[0;34m\u001b[0m\u001b[0m\n\u001b[1;32m     99\u001b[0m     \u001b[0mprint\u001b[0m\u001b[0;34m(\u001b[0m\u001b[0;34m'start model training'\u001b[0m\u001b[0;34m)\u001b[0m\u001b[0;34m\u001b[0m\u001b[0;34m\u001b[0m\u001b[0m\n",
      "\u001b[0;32m/nobackup/users/benhuh/Projects/cavia/regression/dataset.py\u001b[0m in \u001b[0;36m__init__\u001b[0;34m(self, task, batch_dict, idx)\u001b[0m\n\u001b[1;32m    110\u001b[0m         \u001b[0mset_trace\u001b[0m\u001b[0;34m(\u001b[0m\u001b[0;34m)\u001b[0m\u001b[0;34m\u001b[0m\u001b[0;34m\u001b[0m\u001b[0m\n\u001b[1;32m    111\u001b[0m \u001b[0;34m\u001b[0m\u001b[0m\n\u001b[0;32m--> 112\u001b[0;31m         \u001b[0mself\u001b[0m\u001b[0;34m.\u001b[0m\u001b[0mloader_dict\u001b[0m \u001b[0;34m=\u001b[0m \u001b[0mget_dataloader_dict\u001b[0m\u001b[0;34m(\u001b[0m\u001b[0mlevel\u001b[0m\u001b[0;34m,\u001b[0m \u001b[0mtask\u001b[0m\u001b[0;34m,\u001b[0m \u001b[0mbatch_dict\u001b[0m\u001b[0;34m,\u001b[0m \u001b[0midx\u001b[0m\u001b[0;34m)\u001b[0m\u001b[0;34m\u001b[0m\u001b[0;34m\u001b[0m\u001b[0m\n\u001b[0m\u001b[1;32m    113\u001b[0m \u001b[0;34m\u001b[0m\u001b[0m\n\u001b[1;32m    114\u001b[0m         \u001b[0;32mif\u001b[0m \u001b[0mprint_task_loader\u001b[0m\u001b[0;34m:\u001b[0m\u001b[0;34m\u001b[0m\u001b[0;34m\u001b[0m\u001b[0m\n",
      "\u001b[0;32m/nobackup/users/benhuh/Projects/cavia/regression/dataset.py\u001b[0m in \u001b[0;36mget_dataloader_dict\u001b[0;34m(level, task, batch_dict, idx)\u001b[0m\n\u001b[1;32m    173\u001b[0m             \u001b[0;32mreturn\u001b[0m \u001b[0mMeta_DataLoader\u001b[0m\u001b[0;34m(\u001b[0m\u001b[0msubtask_dataset\u001b[0m\u001b[0;34m,\u001b[0m \u001b[0mbatch_size\u001b[0m\u001b[0;34m=\u001b[0m\u001b[0mmini_batch\u001b[0m\u001b[0;34m,\u001b[0m \u001b[0mname\u001b[0m\u001b[0;34m=\u001b[0m\u001b[0mstr\u001b[0m\u001b[0;34m(\u001b[0m\u001b[0mtask\u001b[0m\u001b[0;34m)\u001b[0m\u001b[0;34m,\u001b[0m \u001b[0midx\u001b[0m\u001b[0;34m=\u001b[0m\u001b[0midx\u001b[0m\u001b[0;34m)\u001b[0m      \u001b[0;31m#  returns a mini-batch of Hiearchical Tasks[\u001b[0m\u001b[0;34m\u001b[0m\u001b[0;34m\u001b[0m\u001b[0m\n\u001b[1;32m    174\u001b[0m \u001b[0;34m\u001b[0m\u001b[0m\n\u001b[0;32m--> 175\u001b[0;31m     \u001b[0;32mreturn\u001b[0m \u001b[0mget_dict\u001b[0m\u001b[0;34m(\u001b[0m\u001b[0;34m)\u001b[0m\u001b[0;34m\u001b[0m\u001b[0;34m\u001b[0m\u001b[0m\n\u001b[0m\u001b[1;32m    176\u001b[0m \u001b[0;34m\u001b[0m\u001b[0m\n\u001b[1;32m    177\u001b[0m \u001b[0;34m\u001b[0m\u001b[0m\n",
      "\u001b[0;32m/nobackup/users/benhuh/Projects/cavia/regression/dataset.py\u001b[0m in \u001b[0;36mget_dict\u001b[0;34m()\u001b[0m\n\u001b[1;32m    133\u001b[0m         \u001b[0;32mfor\u001b[0m \u001b[0msample_type\u001b[0m \u001b[0;32min\u001b[0m  \u001b[0;34m[\u001b[0m\u001b[0;34m'train'\u001b[0m\u001b[0;34m,\u001b[0m \u001b[0;34m'test'\u001b[0m\u001b[0;34m,\u001b[0m \u001b[0;34m'valid'\u001b[0m\u001b[0;34m]\u001b[0m\u001b[0;34m:\u001b[0m\u001b[0;34m\u001b[0m\u001b[0;34m\u001b[0m\u001b[0m\n\u001b[1;32m    134\u001b[0m             \u001b[0mprint\u001b[0m\u001b[0;34m(\u001b[0m\u001b[0;34m'level'\u001b[0m\u001b[0;34m,\u001b[0m \u001b[0mlevel\u001b[0m\u001b[0;34m,\u001b[0m \u001b[0;34m'type'\u001b[0m\u001b[0;34m,\u001b[0m \u001b[0msample_type\u001b[0m\u001b[0;34m)\u001b[0m\u001b[0;34m\u001b[0m\u001b[0;34m\u001b[0m\u001b[0m\n\u001b[0;32m--> 135\u001b[0;31m             \u001b[0mloader_dict\u001b[0m\u001b[0;34m[\u001b[0m\u001b[0msample_type\u001b[0m\u001b[0;34m]\u001b[0m \u001b[0;34m=\u001b[0m \u001b[0mget_dataloader\u001b[0m\u001b[0;34m(\u001b[0m\u001b[0msample_type\u001b[0m\u001b[0;34m,\u001b[0m \u001b[0mtotal_batch\u001b[0m\u001b[0;34m[\u001b[0m\u001b[0msample_type\u001b[0m\u001b[0;34m]\u001b[0m\u001b[0;34m,\u001b[0m \u001b[0mmini_batch\u001b[0m\u001b[0;34m[\u001b[0m\u001b[0msample_type\u001b[0m\u001b[0;34m]\u001b[0m\u001b[0;34m,\u001b[0m \u001b[0mbatch_dict_next\u001b[0m\u001b[0;34m)\u001b[0m\u001b[0;34m\u001b[0m\u001b[0;34m\u001b[0m\u001b[0m\n\u001b[0m\u001b[1;32m    136\u001b[0m         \u001b[0;32mreturn\u001b[0m \u001b[0mloader_dict\u001b[0m\u001b[0;34m\u001b[0m\u001b[0;34m\u001b[0m\u001b[0m\n\u001b[1;32m    137\u001b[0m \u001b[0;34m\u001b[0m\u001b[0m\n",
      "\u001b[0;32m/nobackup/users/benhuh/Projects/cavia/regression/dataset.py\u001b[0m in \u001b[0;36mget_dataloader\u001b[0;34m(sample_type, total_batch, mini_batch, batch_dict_next)\u001b[0m\n\u001b[1;32m    169\u001b[0m             \u001b[0;32mreturn\u001b[0m \u001b[0mDataLoader\u001b[0m\u001b[0;34m(\u001b[0m\u001b[0mdataset\u001b[0m\u001b[0;34m,\u001b[0m \u001b[0mbatch_size\u001b[0m\u001b[0;34m=\u001b[0m\u001b[0mmini_batch\u001b[0m\u001b[0;34m,\u001b[0m \u001b[0mshuffle\u001b[0m\u001b[0;34m=\u001b[0m\u001b[0mshuffle\u001b[0m\u001b[0;34m)\u001b[0m                \u001b[0;31m# returns tensors\u001b[0m\u001b[0;34m\u001b[0m\u001b[0;34m\u001b[0m\u001b[0m\n\u001b[1;32m    170\u001b[0m         \u001b[0;32melse\u001b[0m\u001b[0;34m:\u001b[0m\u001b[0;34m\u001b[0m\u001b[0;34m\u001b[0m\u001b[0m\n\u001b[0;32m--> 171\u001b[0;31m             \u001b[0msubtask_samples\u001b[0m \u001b[0;34m=\u001b[0m \u001b[0msample_meta_lv_data\u001b[0m\u001b[0;34m(\u001b[0m\u001b[0mtask\u001b[0m\u001b[0;34m)\u001b[0m      \u001b[0;31m# list of sampled subtasks\u001b[0m\u001b[0;34m\u001b[0m\u001b[0;34m\u001b[0m\u001b[0m\n\u001b[0m\u001b[1;32m    172\u001b[0m             \u001b[0msubtask_dataset\u001b[0m \u001b[0;34m=\u001b[0m \u001b[0mDataset_helper\u001b[0m\u001b[0;34m(\u001b[0m\u001b[0msubtask_samples\u001b[0m\u001b[0;34m,\u001b[0m \u001b[0;32mNone\u001b[0m\u001b[0;34m)\u001b[0m\u001b[0;34m\u001b[0m\u001b[0;34m\u001b[0m\u001b[0m\n\u001b[1;32m    173\u001b[0m             \u001b[0;32mreturn\u001b[0m \u001b[0mMeta_DataLoader\u001b[0m\u001b[0;34m(\u001b[0m\u001b[0msubtask_dataset\u001b[0m\u001b[0;34m,\u001b[0m \u001b[0mbatch_size\u001b[0m\u001b[0;34m=\u001b[0m\u001b[0mmini_batch\u001b[0m\u001b[0;34m,\u001b[0m \u001b[0mname\u001b[0m\u001b[0;34m=\u001b[0m\u001b[0mstr\u001b[0m\u001b[0;34m(\u001b[0m\u001b[0mtask\u001b[0m\u001b[0;34m)\u001b[0m\u001b[0;34m,\u001b[0m \u001b[0midx\u001b[0m\u001b[0;34m=\u001b[0m\u001b[0midx\u001b[0m\u001b[0;34m)\u001b[0m      \u001b[0;31m#  returns a mini-batch of Hiearchical Tasks[\u001b[0m\u001b[0;34m\u001b[0m\u001b[0;34m\u001b[0m\u001b[0m\n",
      "\u001b[0;32m/nobackup/users/benhuh/Projects/cavia/regression/dataset.py\u001b[0m in \u001b[0;36msample_meta_lv_data\u001b[0;34m(task)\u001b[0m\n\u001b[1;32m    153\u001b[0m                 \u001b[0msubtask_list\u001b[0m \u001b[0;34m=\u001b[0m \u001b[0mrandom\u001b[0m\u001b[0;34m.\u001b[0m\u001b[0msample\u001b[0m\u001b[0;34m(\u001b[0m\u001b[0mtask\u001b[0m\u001b[0;34m,\u001b[0m \u001b[0mtotal_batch\u001b[0m\u001b[0;34m)\u001b[0m    \u001b[0;31m#  sampling from task list # To fix: task does not take sample_type as an input\u001b[0m\u001b[0;34m\u001b[0m\u001b[0;34m\u001b[0m\u001b[0m\n\u001b[1;32m    154\u001b[0m             \u001b[0;32melif\u001b[0m \u001b[0mcallable\u001b[0m\u001b[0;34m(\u001b[0m\u001b[0mtask\u001b[0m\u001b[0;34m)\u001b[0m\u001b[0;34m:\u001b[0m\u001b[0;34m\u001b[0m\u001b[0;34m\u001b[0m\u001b[0m\n\u001b[0;32m--> 155\u001b[0;31m                 \u001b[0msubtask_list\u001b[0m \u001b[0;34m=\u001b[0m \u001b[0;34m[\u001b[0m\u001b[0mtask\u001b[0m\u001b[0;34m(\u001b[0m\u001b[0msample_type\u001b[0m\u001b[0;34m)\u001b[0m \u001b[0;32mfor\u001b[0m \u001b[0m_\u001b[0m \u001b[0;32min\u001b[0m \u001b[0mrange\u001b[0m\u001b[0;34m(\u001b[0m\u001b[0mtotal_batch\u001b[0m\u001b[0;34m)\u001b[0m\u001b[0;34m]\u001b[0m  \u001b[0;31m#  sampling from task_generating function\u001b[0m\u001b[0;34m\u001b[0m\u001b[0;34m\u001b[0m\u001b[0m\n\u001b[0m\u001b[1;32m    156\u001b[0m             \u001b[0;32melse\u001b[0m\u001b[0;34m:\u001b[0m\u001b[0;34m\u001b[0m\u001b[0;34m\u001b[0m\u001b[0m\n\u001b[1;32m    157\u001b[0m                 \u001b[0mprint\u001b[0m\u001b[0;34m(\u001b[0m\u001b[0mtask\u001b[0m\u001b[0;34m)\u001b[0m\u001b[0;34m\u001b[0m\u001b[0;34m\u001b[0m\u001b[0m\n",
      "\u001b[0;32m/nobackup/users/benhuh/Projects/cavia/regression/dataset.py\u001b[0m in \u001b[0;36m<listcomp>\u001b[0;34m(.0)\u001b[0m\n\u001b[1;32m    153\u001b[0m                 \u001b[0msubtask_list\u001b[0m \u001b[0;34m=\u001b[0m \u001b[0mrandom\u001b[0m\u001b[0;34m.\u001b[0m\u001b[0msample\u001b[0m\u001b[0;34m(\u001b[0m\u001b[0mtask\u001b[0m\u001b[0;34m,\u001b[0m \u001b[0mtotal_batch\u001b[0m\u001b[0;34m)\u001b[0m    \u001b[0;31m#  sampling from task list # To fix: task does not take sample_type as an input\u001b[0m\u001b[0;34m\u001b[0m\u001b[0;34m\u001b[0m\u001b[0m\n\u001b[1;32m    154\u001b[0m             \u001b[0;32melif\u001b[0m \u001b[0mcallable\u001b[0m\u001b[0;34m(\u001b[0m\u001b[0mtask\u001b[0m\u001b[0;34m)\u001b[0m\u001b[0;34m:\u001b[0m\u001b[0;34m\u001b[0m\u001b[0;34m\u001b[0m\u001b[0m\n\u001b[0;32m--> 155\u001b[0;31m                 \u001b[0msubtask_list\u001b[0m \u001b[0;34m=\u001b[0m \u001b[0;34m[\u001b[0m\u001b[0mtask\u001b[0m\u001b[0;34m(\u001b[0m\u001b[0msample_type\u001b[0m\u001b[0;34m)\u001b[0m \u001b[0;32mfor\u001b[0m \u001b[0m_\u001b[0m \u001b[0;32min\u001b[0m \u001b[0mrange\u001b[0m\u001b[0;34m(\u001b[0m\u001b[0mtotal_batch\u001b[0m\u001b[0;34m)\u001b[0m\u001b[0;34m]\u001b[0m  \u001b[0;31m#  sampling from task_generating function\u001b[0m\u001b[0;34m\u001b[0m\u001b[0;34m\u001b[0m\u001b[0m\n\u001b[0m\u001b[1;32m    156\u001b[0m             \u001b[0;32melse\u001b[0m\u001b[0;34m:\u001b[0m\u001b[0;34m\u001b[0m\u001b[0;34m\u001b[0m\u001b[0m\n\u001b[1;32m    157\u001b[0m                 \u001b[0mprint\u001b[0m\u001b[0;34m(\u001b[0m\u001b[0mtask\u001b[0m\u001b[0;34m)\u001b[0m\u001b[0;34m\u001b[0m\u001b[0;34m\u001b[0m\u001b[0m\n",
      "\u001b[0;32m/nobackup/users/benhuh/Projects/cavia/regression/task/make_tasks_new.py\u001b[0m in \u001b[0;36msample\u001b[0;34m(self, sample_type)\u001b[0m\n\u001b[1;32m     29\u001b[0m     \u001b[0;32mdef\u001b[0m \u001b[0msample\u001b[0m\u001b[0;34m(\u001b[0m\u001b[0mself\u001b[0m\u001b[0;34m,\u001b[0m \u001b[0msample_type\u001b[0m\u001b[0;34m)\u001b[0m\u001b[0;34m:\u001b[0m\u001b[0;34m\u001b[0m\u001b[0;34m\u001b[0m\u001b[0m\n\u001b[1;32m     30\u001b[0m         \u001b[0mset_trace\u001b[0m\u001b[0;34m(\u001b[0m\u001b[0;34m)\u001b[0m\u001b[0;34m\u001b[0m\u001b[0;34m\u001b[0m\u001b[0m\n\u001b[0;32m---> 31\u001b[0;31m         \u001b[0;32mreturn\u001b[0m \u001b[0mself\u001b[0m\u001b[0;34m.\u001b[0m\u001b[0mlabel_dict\u001b[0m\u001b[0;34m[\u001b[0m\u001b[0msample_type\u001b[0m\u001b[0;34m]\u001b[0m\u001b[0;34m\u001b[0m\u001b[0;34m\u001b[0m\u001b[0m\n\u001b[0m\u001b[1;32m     32\u001b[0m \u001b[0;34m\u001b[0m\u001b[0m\n\u001b[1;32m     33\u001b[0m \u001b[0;34m\u001b[0m\u001b[0m\n",
      "\u001b[0;32m/nobackup/users/benhuh/Projects/cavia/regression/task/make_tasks_new.py\u001b[0m in \u001b[0;36msample\u001b[0;34m(self, sample_type)\u001b[0m\n\u001b[1;32m     29\u001b[0m     \u001b[0;32mdef\u001b[0m \u001b[0msample\u001b[0m\u001b[0;34m(\u001b[0m\u001b[0mself\u001b[0m\u001b[0;34m,\u001b[0m \u001b[0msample_type\u001b[0m\u001b[0;34m)\u001b[0m\u001b[0;34m:\u001b[0m\u001b[0;34m\u001b[0m\u001b[0;34m\u001b[0m\u001b[0m\n\u001b[1;32m     30\u001b[0m         \u001b[0mset_trace\u001b[0m\u001b[0;34m(\u001b[0m\u001b[0;34m)\u001b[0m\u001b[0;34m\u001b[0m\u001b[0;34m\u001b[0m\u001b[0m\n\u001b[0;32m---> 31\u001b[0;31m         \u001b[0;32mreturn\u001b[0m \u001b[0mself\u001b[0m\u001b[0;34m.\u001b[0m\u001b[0mlabel_dict\u001b[0m\u001b[0;34m[\u001b[0m\u001b[0msample_type\u001b[0m\u001b[0;34m]\u001b[0m\u001b[0;34m\u001b[0m\u001b[0;34m\u001b[0m\u001b[0m\n\u001b[0m\u001b[1;32m     32\u001b[0m \u001b[0;34m\u001b[0m\u001b[0m\n\u001b[1;32m     33\u001b[0m \u001b[0;34m\u001b[0m\u001b[0m\n",
      "\u001b[0;32m/nobackup/users/benhuh/anaconda3/envs/hml2/lib/python3.7/bdb.py\u001b[0m in \u001b[0;36mtrace_dispatch\u001b[0;34m(self, frame, event, arg)\u001b[0m\n\u001b[1;32m     86\u001b[0m             \u001b[0;32mreturn\u001b[0m \u001b[0;31m# None\u001b[0m\u001b[0;34m\u001b[0m\u001b[0;34m\u001b[0m\u001b[0m\n\u001b[1;32m     87\u001b[0m         \u001b[0;32mif\u001b[0m \u001b[0mevent\u001b[0m \u001b[0;34m==\u001b[0m \u001b[0;34m'line'\u001b[0m\u001b[0;34m:\u001b[0m\u001b[0;34m\u001b[0m\u001b[0;34m\u001b[0m\u001b[0m\n\u001b[0;32m---> 88\u001b[0;31m             \u001b[0;32mreturn\u001b[0m \u001b[0mself\u001b[0m\u001b[0;34m.\u001b[0m\u001b[0mdispatch_line\u001b[0m\u001b[0;34m(\u001b[0m\u001b[0mframe\u001b[0m\u001b[0;34m)\u001b[0m\u001b[0;34m\u001b[0m\u001b[0;34m\u001b[0m\u001b[0m\n\u001b[0m\u001b[1;32m     89\u001b[0m         \u001b[0;32mif\u001b[0m \u001b[0mevent\u001b[0m \u001b[0;34m==\u001b[0m \u001b[0;34m'call'\u001b[0m\u001b[0;34m:\u001b[0m\u001b[0;34m\u001b[0m\u001b[0;34m\u001b[0m\u001b[0m\n\u001b[1;32m     90\u001b[0m             \u001b[0;32mreturn\u001b[0m \u001b[0mself\u001b[0m\u001b[0;34m.\u001b[0m\u001b[0mdispatch_call\u001b[0m\u001b[0;34m(\u001b[0m\u001b[0mframe\u001b[0m\u001b[0;34m,\u001b[0m \u001b[0marg\u001b[0m\u001b[0;34m)\u001b[0m\u001b[0;34m\u001b[0m\u001b[0;34m\u001b[0m\u001b[0m\n",
      "\u001b[0;32m/nobackup/users/benhuh/anaconda3/envs/hml2/lib/python3.7/bdb.py\u001b[0m in \u001b[0;36mdispatch_line\u001b[0;34m(self, frame)\u001b[0m\n\u001b[1;32m    111\u001b[0m         \u001b[0;32mif\u001b[0m \u001b[0mself\u001b[0m\u001b[0;34m.\u001b[0m\u001b[0mstop_here\u001b[0m\u001b[0;34m(\u001b[0m\u001b[0mframe\u001b[0m\u001b[0;34m)\u001b[0m \u001b[0;32mor\u001b[0m \u001b[0mself\u001b[0m\u001b[0;34m.\u001b[0m\u001b[0mbreak_here\u001b[0m\u001b[0;34m(\u001b[0m\u001b[0mframe\u001b[0m\u001b[0;34m)\u001b[0m\u001b[0;34m:\u001b[0m\u001b[0;34m\u001b[0m\u001b[0;34m\u001b[0m\u001b[0m\n\u001b[1;32m    112\u001b[0m             \u001b[0mself\u001b[0m\u001b[0;34m.\u001b[0m\u001b[0muser_line\u001b[0m\u001b[0;34m(\u001b[0m\u001b[0mframe\u001b[0m\u001b[0;34m)\u001b[0m\u001b[0;34m\u001b[0m\u001b[0;34m\u001b[0m\u001b[0m\n\u001b[0;32m--> 113\u001b[0;31m             \u001b[0;32mif\u001b[0m \u001b[0mself\u001b[0m\u001b[0;34m.\u001b[0m\u001b[0mquitting\u001b[0m\u001b[0;34m:\u001b[0m \u001b[0;32mraise\u001b[0m \u001b[0mBdbQuit\u001b[0m\u001b[0;34m\u001b[0m\u001b[0;34m\u001b[0m\u001b[0m\n\u001b[0m\u001b[1;32m    114\u001b[0m         \u001b[0;32mreturn\u001b[0m \u001b[0mself\u001b[0m\u001b[0;34m.\u001b[0m\u001b[0mtrace_dispatch\u001b[0m\u001b[0;34m\u001b[0m\u001b[0;34m\u001b[0m\u001b[0m\n\u001b[1;32m    115\u001b[0m \u001b[0;34m\u001b[0m\u001b[0m\n",
      "\u001b[0;31mBdbQuit\u001b[0m: "
     ]
    }
   ],
   "source": [
    "args = get_args(\"\")\n",
    "args.log_interval=50\n",
    "\n",
    "args.k_batch_train = [10, 3, 2]\n",
    "args.k_batch_test =  [10, 3, 2]\n",
    "args.k_batch_valid = [10, 3, 2]\n",
    "args.n_batch_train = [10, 3, 2]\n",
    "args.n_batch_test = [10, 3, 2]\n",
    "args.n_batch_valid = [10, 3, 2]\n",
    "args.architecture = [ 1, 28, 1 ]\n",
    "args.n_iters = [10, 10, 20 ] \n",
    "args.for_iters = [ 5, 3, 1 ]\n",
    "args.task = 'sine+linear' # ['LQR']\n",
    "args.n_contexts = [ 3, 2 ]\n",
    "args.lrs = [ 1.0, 0.0, 0.001] \n",
    "args.test_interval = 100 \n",
    "args.classes = [0]\n",
    "\n",
    "# args.log_name=\n",
    "\n",
    "args.ctx_logging_levels=[0,]\n",
    "\n",
    "print(args)\n",
    "\n",
    "main(args)\n"
   ]
  },
  {
   "cell_type": "code",
   "execution_count": null,
   "metadata": {},
   "outputs": [],
   "source": []
  },
  {
   "cell_type": "code",
   "execution_count": 2,
   "metadata": {
    "collapsed": true,
    "jupyter": {
     "outputs_hidden": true
    }
   },
   "outputs": [
    {
     "name": "stdout",
     "output_type": "stream",
     "text": [
      "Namespace(architecture=[1, 28, 1], classes=[0], ctx_logging_levels=[0], data_parallel=False, device=device(type='cuda', index=0), encoders=[None, None, None], first_order=False, for_iters=[1, 1], higher_flag=False, k_batch_test=[10, 3], k_batch_train=[10, 3], k_batch_valid=[10, 3], load_model='', log_interval=50, log_name=None, lrs=[1.0, 0.001], model_type='CAVIA', n_batch_test=[10, 3], n_batch_train=[10, 3], n_batch_valid=[10, 3], n_contexts=[3], n_iters=[4, 20], prefix='', save_path='/nobackup/users/benhuh/Projects/cavia/shared_results', seed=42, task='sine', test_interval=100, v_num=None, viz=False)\n",
      "sine\n",
      "/nobackup/users/benhuh/Projects/cavia/shared_results/logs/sine\n",
      "max_iters [4, 20]\n",
      "level 1\n",
      "batch 3\n",
      "task <function sample_sin_fnc at 0x200099fbb0e0>\n",
      "level 1 type train\n",
      "> \u001b[0;32m/nobackup/users/benhuh/Projects/cavia/regression/dataset.py\u001b[0m(156)\u001b[0;36msample_meta_lv_data\u001b[0;34m()\u001b[0m\n",
      "\u001b[0;32m    154 \u001b[0;31m            \u001b[0;32melif\u001b[0m \u001b[0mcallable\u001b[0m\u001b[0;34m(\u001b[0m\u001b[0mtask\u001b[0m\u001b[0;34m)\u001b[0m\u001b[0;34m:\u001b[0m\u001b[0;34m\u001b[0m\u001b[0;34m\u001b[0m\u001b[0m\n",
      "\u001b[0m\u001b[0;32m    155 \u001b[0;31m                \u001b[0mset_trace\u001b[0m\u001b[0;34m(\u001b[0m\u001b[0;34m)\u001b[0m\u001b[0;34m\u001b[0m\u001b[0;34m\u001b[0m\u001b[0m\n",
      "\u001b[0m\u001b[0;32m--> 156 \u001b[0;31m                \u001b[0msubtask_list\u001b[0m \u001b[0;34m=\u001b[0m \u001b[0;34m[\u001b[0m\u001b[0mtask\u001b[0m\u001b[0;34m(\u001b[0m\u001b[0msample_type\u001b[0m\u001b[0;34m)\u001b[0m \u001b[0;32mfor\u001b[0m \u001b[0m_\u001b[0m \u001b[0;32min\u001b[0m \u001b[0mrange\u001b[0m\u001b[0;34m(\u001b[0m\u001b[0mtotal_batch\u001b[0m\u001b[0;34m)\u001b[0m\u001b[0;34m]\u001b[0m  \u001b[0;31m#  sampling from task_generating function\u001b[0m\u001b[0;34m\u001b[0m\u001b[0;34m\u001b[0m\u001b[0m\n",
      "\u001b[0m\u001b[0;32m    157 \u001b[0;31m            \u001b[0;32melse\u001b[0m\u001b[0;34m:\u001b[0m\u001b[0;34m\u001b[0m\u001b[0;34m\u001b[0m\u001b[0m\n",
      "\u001b[0m\u001b[0;32m    158 \u001b[0;31m                \u001b[0mprint\u001b[0m\u001b[0;34m(\u001b[0m\u001b[0mtask\u001b[0m\u001b[0;34m)\u001b[0m\u001b[0;34m\u001b[0m\u001b[0;34m\u001b[0m\u001b[0m\n",
      "\u001b[0m\n"
     ]
    },
    {
     "name": "stdin",
     "output_type": "stream",
     "text": [
      "ipdb>  p task\n"
     ]
    },
    {
     "name": "stdout",
     "output_type": "stream",
     "text": [
      "<function sample_sin_fnc at 0x200099fbb0e0>\n"
     ]
    },
    {
     "name": "stdin",
     "output_type": "stream",
     "text": [
      "ipdb>  cont\n"
     ]
    },
    {
     "name": "stdout",
     "output_type": "stream",
     "text": [
      "level 0\n",
      "batch 10\n",
      "task (<function regression_input_function at 0x200099fbb170>, <function get_sin_function.<locals>.sin_function at 0x2000a304c560>)\n",
      "level 0 type train\n",
      "level 0 type test\n",
      "level 0 type valid\n",
      "Task_loader Level 0 task (<function regression_input_function at 0x200099fbb170>, <function get_sin_function.<locals>.sin_function at 0x2000a304c560>)\n",
      "level 0\n",
      "batch 10\n",
      "task (<function regression_input_function at 0x200099fbb170>, <function get_sin_function.<locals>.sin_function at 0x2000a304c3b0>)\n",
      "level 0 type train\n",
      "level 0 type test\n",
      "level 0 type valid\n",
      "Task_loader Level 0 task (<function regression_input_function at 0x200099fbb170>, <function get_sin_function.<locals>.sin_function at 0x2000a304c3b0>)\n",
      "level 0\n",
      "batch 10\n",
      "task (<function regression_input_function at 0x200099fbb170>, <function get_sin_function.<locals>.sin_function at 0x2000a304d440>)\n",
      "level 0 type train\n",
      "level 0 type test\n",
      "level 0 type valid\n",
      "Task_loader Level 0 task (<function regression_input_function at 0x200099fbb170>, <function get_sin_function.<locals>.sin_function at 0x2000a304d440>)\n",
      "level 1 type test\n",
      "> \u001b[0;32m/nobackup/users/benhuh/Projects/cavia/regression/dataset.py\u001b[0m(156)\u001b[0;36msample_meta_lv_data\u001b[0;34m()\u001b[0m\n",
      "\u001b[0;32m    154 \u001b[0;31m            \u001b[0;32melif\u001b[0m \u001b[0mcallable\u001b[0m\u001b[0;34m(\u001b[0m\u001b[0mtask\u001b[0m\u001b[0;34m)\u001b[0m\u001b[0;34m:\u001b[0m\u001b[0;34m\u001b[0m\u001b[0;34m\u001b[0m\u001b[0m\n",
      "\u001b[0m\u001b[0;32m    155 \u001b[0;31m                \u001b[0mset_trace\u001b[0m\u001b[0;34m(\u001b[0m\u001b[0;34m)\u001b[0m\u001b[0;34m\u001b[0m\u001b[0;34m\u001b[0m\u001b[0m\n",
      "\u001b[0m\u001b[0;32m--> 156 \u001b[0;31m                \u001b[0msubtask_list\u001b[0m \u001b[0;34m=\u001b[0m \u001b[0;34m[\u001b[0m\u001b[0mtask\u001b[0m\u001b[0;34m(\u001b[0m\u001b[0msample_type\u001b[0m\u001b[0;34m)\u001b[0m \u001b[0;32mfor\u001b[0m \u001b[0m_\u001b[0m \u001b[0;32min\u001b[0m \u001b[0mrange\u001b[0m\u001b[0;34m(\u001b[0m\u001b[0mtotal_batch\u001b[0m\u001b[0;34m)\u001b[0m\u001b[0;34m]\u001b[0m  \u001b[0;31m#  sampling from task_generating function\u001b[0m\u001b[0;34m\u001b[0m\u001b[0;34m\u001b[0m\u001b[0m\n",
      "\u001b[0m\u001b[0;32m    157 \u001b[0;31m            \u001b[0;32melse\u001b[0m\u001b[0;34m:\u001b[0m\u001b[0;34m\u001b[0m\u001b[0;34m\u001b[0m\u001b[0m\n",
      "\u001b[0m\u001b[0;32m    158 \u001b[0;31m                \u001b[0mprint\u001b[0m\u001b[0;34m(\u001b[0m\u001b[0mtask\u001b[0m\u001b[0;34m)\u001b[0m\u001b[0;34m\u001b[0m\u001b[0;34m\u001b[0m\u001b[0m\n",
      "\u001b[0m\n"
     ]
    },
    {
     "name": "stdin",
     "output_type": "stream",
     "text": [
      "ipdb>  p task\n"
     ]
    },
    {
     "name": "stdout",
     "output_type": "stream",
     "text": [
      "<function sample_sin_fnc at 0x200099fbb0e0>\n"
     ]
    },
    {
     "name": "stdin",
     "output_type": "stream",
     "text": [
      "ipdb>  cont\n"
     ]
    },
    {
     "name": "stdout",
     "output_type": "stream",
     "text": [
      "level 0\n",
      "batch 10\n",
      "task (<function regression_input_function at 0x200099fbb170>, <function get_sin_function.<locals>.sin_function at 0x2000a304d7a0>)\n",
      "level 0 type train\n",
      "level 0 type test\n",
      "level 0 type valid\n",
      "Task_loader Level 0 task (<function regression_input_function at 0x200099fbb170>, <function get_sin_function.<locals>.sin_function at 0x2000a304d7a0>)\n",
      "level 0\n",
      "batch 10\n",
      "task (<function regression_input_function at 0x200099fbb170>, <function get_sin_function.<locals>.sin_function at 0x2000a304d830>)\n",
      "level 0 type train\n",
      "level 0 type test\n",
      "level 0 type valid\n",
      "Task_loader Level 0 task (<function regression_input_function at 0x200099fbb170>, <function get_sin_function.<locals>.sin_function at 0x2000a304d830>)\n",
      "level 0\n",
      "batch 10\n",
      "task (<function regression_input_function at 0x200099fbb170>, <function get_sin_function.<locals>.sin_function at 0x2000a304d9e0>)\n",
      "level 0 type train\n",
      "level 0 type test\n",
      "level 0 type valid\n",
      "Task_loader Level 0 task (<function regression_input_function at 0x200099fbb170>, <function get_sin_function.<locals>.sin_function at 0x2000a304d9e0>)\n",
      "level 1 type valid\n",
      "> \u001b[0;32m/nobackup/users/benhuh/Projects/cavia/regression/dataset.py\u001b[0m(156)\u001b[0;36msample_meta_lv_data\u001b[0;34m()\u001b[0m\n",
      "\u001b[0;32m    154 \u001b[0;31m            \u001b[0;32melif\u001b[0m \u001b[0mcallable\u001b[0m\u001b[0;34m(\u001b[0m\u001b[0mtask\u001b[0m\u001b[0;34m)\u001b[0m\u001b[0;34m:\u001b[0m\u001b[0;34m\u001b[0m\u001b[0;34m\u001b[0m\u001b[0m\n",
      "\u001b[0m\u001b[0;32m    155 \u001b[0;31m                \u001b[0mset_trace\u001b[0m\u001b[0;34m(\u001b[0m\u001b[0;34m)\u001b[0m\u001b[0;34m\u001b[0m\u001b[0;34m\u001b[0m\u001b[0m\n",
      "\u001b[0m\u001b[0;32m--> 156 \u001b[0;31m                \u001b[0msubtask_list\u001b[0m \u001b[0;34m=\u001b[0m \u001b[0;34m[\u001b[0m\u001b[0mtask\u001b[0m\u001b[0;34m(\u001b[0m\u001b[0msample_type\u001b[0m\u001b[0;34m)\u001b[0m \u001b[0;32mfor\u001b[0m \u001b[0m_\u001b[0m \u001b[0;32min\u001b[0m \u001b[0mrange\u001b[0m\u001b[0;34m(\u001b[0m\u001b[0mtotal_batch\u001b[0m\u001b[0;34m)\u001b[0m\u001b[0;34m]\u001b[0m  \u001b[0;31m#  sampling from task_generating function\u001b[0m\u001b[0;34m\u001b[0m\u001b[0;34m\u001b[0m\u001b[0m\n",
      "\u001b[0m\u001b[0;32m    157 \u001b[0;31m            \u001b[0;32melse\u001b[0m\u001b[0;34m:\u001b[0m\u001b[0;34m\u001b[0m\u001b[0;34m\u001b[0m\u001b[0m\n",
      "\u001b[0m\u001b[0;32m    158 \u001b[0;31m                \u001b[0mprint\u001b[0m\u001b[0;34m(\u001b[0m\u001b[0mtask\u001b[0m\u001b[0;34m)\u001b[0m\u001b[0;34m\u001b[0m\u001b[0;34m\u001b[0m\u001b[0m\n",
      "\u001b[0m\n"
     ]
    },
    {
     "name": "stdin",
     "output_type": "stream",
     "text": [
      "ipdb>  p task\n"
     ]
    },
    {
     "name": "stdout",
     "output_type": "stream",
     "text": [
      "<function sample_sin_fnc at 0x200099fbb0e0>\n"
     ]
    },
    {
     "name": "stdin",
     "output_type": "stream",
     "text": [
      "ipdb>  cont\n"
     ]
    },
    {
     "name": "stdout",
     "output_type": "stream",
     "text": [
      "level 0\n",
      "batch 10\n",
      "task (<function regression_input_function at 0x200099fbb170>, <function get_sin_function.<locals>.sin_function at 0x2000a304dc20>)\n",
      "level 0 type train\n",
      "level 0 type test\n",
      "level 0 type valid\n",
      "Task_loader Level 0 task (<function regression_input_function at 0x200099fbb170>, <function get_sin_function.<locals>.sin_function at 0x2000a304dc20>)\n",
      "level 0\n",
      "batch 10\n",
      "task (<function regression_input_function at 0x200099fbb170>, <function get_sin_function.<locals>.sin_function at 0x2000a304db00>)\n",
      "level 0 type train\n",
      "level 0 type test\n",
      "level 0 type valid\n",
      "Task_loader Level 0 task (<function regression_input_function at 0x200099fbb170>, <function get_sin_function.<locals>.sin_function at 0x2000a304db00>)\n",
      "level 0\n",
      "batch 10\n",
      "task (<function regression_input_function at 0x200099fbb170>, <function get_sin_function.<locals>.sin_function at 0x2000a304da70>)\n",
      "level 0 type train\n",
      "level 0 type test\n",
      "level 0 type valid\n",
      "Task_loader Level 0 task (<function regression_input_function at 0x200099fbb170>, <function get_sin_function.<locals>.sin_function at 0x2000a304da70>)\n",
      "Task_loader Level 1 task <function sample_sin_fnc at 0x200099fbb0e0>\n",
      "start model training\n",
      "optimize/lv1/0/train/lv0/2/train loss_f 0.7463125586509705\n",
      "optimize/lv1/0/train/lv0/1/train loss_f 4.488613128662109\n",
      "optimize/lv1/0/train/lv0/0/train loss_f 2.945265531539917\n",
      "optimize/lv1/0/train/lv0/2/train loss_f 0.709453284740448\n",
      "optimize/lv1/0/train/lv0/0/train loss_f 2.865903854370117\n",
      "optimize/lv1/0/train/lv0/1/train loss_f 4.520871639251709\n",
      "optimize/lv1/0/train/lv0/1/train loss_f 4.554011821746826\n",
      "optimize/lv1/0/train/lv0/2/train loss_f 0.6752952933311462\n",
      "optimize/lv1/0/train/lv0/0/train loss_f 2.7911040782928467\n",
      "optimize/lv1/0/train/lv0/2/train loss_f 0.6415771842002869\n",
      "optimize/lv1/0/train/lv0/1/train loss_f 4.59214973449707\n",
      "optimize/lv1/0/train/lv0/0/train loss_f 2.731926441192627\n",
      "optimize/lv1/0/train/lv0/2/train loss_f 0.6102997660636902\n",
      "optimize/lv1/0/train/lv0/1/train loss_f 4.621090888977051\n",
      "optimize/lv1/0/train/lv0/0/train loss_f 2.6699063777923584\n",
      "optimize/lv1/0/train/lv0/2/train loss_f 0.5820671916007996\n",
      "optimize/lv1/0/train/lv0/1/train loss_f 4.670166015625\n",
      "optimize/lv1/0/train/lv0/0/train loss_f 2.599669933319092\n",
      "optimize/lv1/0/train/lv0/2/train loss_f 0.5545963644981384\n",
      "optimize/lv1/0/train/lv0/1/train loss_f 4.727108478546143\n",
      "optimize/lv1/0/train/lv0/0/train loss_f 2.531926393508911\n",
      "optimize/lv1/0/train/lv0/1/train loss_f 4.807492256164551\n",
      "optimize/lv1/0/train/lv0/0/train loss_f 2.464524030685425\n",
      "optimize/lv1/0/train/lv0/2/train loss_f 0.5292391180992126\n",
      "optimize/lv1/0/train/lv0/1/train loss_f 4.874209880828857\n",
      "optimize/lv1/0/train/lv0/0/train loss_f 2.397738218307495\n",
      "optimize/lv1/0/train/lv0/2/train loss_f 0.5059996843338013\n",
      "optimize/lv1/0/train/lv0/1/train loss_f 4.930985450744629\n",
      "optimize/lv1/0/train/lv0/2/train loss_f 0.4839113652706146\n",
      "optimize/lv1/0/train/lv0/0/train loss_f 2.3347911834716797\n",
      "optimize/lv1/0/train/lv0/0/train loss_f 2.274648427963257\n",
      "optimize/lv1/0/train/lv0/1/train loss_f 5.005508899688721\n",
      "optimize/lv1/0/train/lv0/2/train loss_f 0.46455153822898865\n",
      "optimize/lv1/0/train/lv0/1/train loss_f 5.08593225479126\n",
      "optimize/lv1/0/train/lv0/2/train loss_f 0.4461084306240082\n",
      "optimize/lv1/0/train/lv0/0/train loss_f 2.21981143951416\n",
      "optimize/lv1/0/train/lv0/2/train loss_f 0.43039679527282715\n",
      "optimize/lv1/0/train/lv0/0/train loss_f 2.1638171672821045\n",
      "optimize/lv1/0/train/lv0/1/train loss_f 5.174924850463867\n",
      "optimize/lv1/0/train/lv0/2/train loss_f 0.41648560762405396\n",
      "optimize/lv1/0/train/lv0/1/train loss_f 5.269229888916016\n",
      "optimize/lv1/0/train/lv0/0/train loss_f 2.1168200969696045\n",
      "optimize/lv1/0/train/lv0/0/train loss_f 2.064546585083008\n",
      "optimize/lv1/0/train/lv0/2/train loss_f 0.40485379099845886\n",
      "optimize/lv1/0/train/lv0/1/train loss_f 5.369204998016357\n",
      "optimize/lv1/0/train/lv0/2/train loss_f 0.3947679102420807\n",
      "optimize/lv1/0/train/lv0/1/train loss_f 5.474349498748779\n",
      "optimize/lv1/0/train/lv0/0/train loss_f 2.0138583183288574\n",
      "optimize/lv1/0/train/lv0/0/train loss_f 1.9692710638046265\n",
      "optimize/lv1/0/train/lv0/2/train loss_f 0.38644155859947205\n",
      "optimize/lv1/0/train/lv0/1/train loss_f 5.584691047668457\n",
      "optimize/lv1/0/train/lv0/2/train loss_f 0.37907615303993225\n",
      "optimize/lv1/0/train/lv0/1/train loss_f 5.724343299865723\n",
      "optimize/lv1/0/train/lv0/0/train loss_f 1.9266992807388306\n",
      "optimize/lv1/0/train/lv0/0/train loss_f 1.8805006742477417\n",
      "optimize/lv1/0/train/lv0/1/train loss_f 5.844399929046631\n",
      "optimize/lv1/0/train/lv0/2/train loss_f 0.3741799294948578\n",
      "optimize/lv1/0/train/lv0/2/train loss_f 0.3712247312068939\n",
      "optimize/lv1/0/train/lv0/0/train loss_f 1.8338607549667358\n",
      "optimize/lv1/0/train/lv0/1/train loss_f 5.972239971160889\n",
      "optimize/lv1/0/train loss_f 3.21712064743042\n",
      "optimize/lv1/0/test/lv0/1/train loss_f 4.123269081115723\n",
      "optimize/lv1/0/test/lv0/2/train loss_f 0.027558544650673866\n",
      "optimize/lv1/0/test/lv0/0/train loss_f 0.07799025624990463\n",
      "outer-loop idx 0 test loss 1.3686089515686035\n",
      "Saving model\n"
     ]
    }
   ],
   "source": [
    "args = get_args(\"\")\n",
    "args.log_interval=50\n",
    "\n",
    "args.task = 'sine' # Level-1 task\n",
    "args.k_batch_train = [10, 3]\n",
    "args.k_batch_test =  [10, 3]\n",
    "args.k_batch_valid = [10, 3]\n",
    "args.n_batch_train = [10, 3]\n",
    "args.n_batch_test = [10, 3]\n",
    "args.n_batch_valid = [10, 3]\n",
    "args.architecture = [ 1, 28, 1 ]\n",
    "args.n_iters = [4, 20 ] \n",
    "args.for_iters = [ 1,1 ]\n",
    "args.n_contexts = [ 3 ]\n",
    "args.lrs = [ 1.0,  0.001] \n",
    "args.test_interval = 100 \n",
    "args.classes = [0]\n",
    "\n",
    "# args.log_name=\n",
    "\n",
    "args.ctx_logging_levels=[0,]\n",
    "\n",
    "print(args)\n",
    "\n",
    "main(args)\n"
   ]
  },
  {
   "cell_type": "code",
   "execution_count": null,
   "metadata": {},
   "outputs": [],
   "source": []
  }
 ],
 "metadata": {
  "kernelspec": {
   "display_name": "hml2",
   "language": "python",
   "name": "hml2"
  },
  "language_info": {
   "codemirror_mode": {
    "name": "ipython",
    "version": 3
   },
   "file_extension": ".py",
   "mimetype": "text/x-python",
   "name": "python",
   "nbconvert_exporter": "python",
   "pygments_lexer": "ipython3",
   "version": "3.7.7"
  }
 },
 "nbformat": 4,
 "nbformat_minor": 4
}
