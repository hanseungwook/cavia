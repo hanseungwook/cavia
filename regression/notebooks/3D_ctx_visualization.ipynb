{
 "cells": [
  {
   "cell_type": "code",
   "execution_count": 5,
   "metadata": {},
   "outputs": [],
   "source": [
    "# load csv\n",
    "\n",
    "import torch\n",
    "import pandas as pd\n",
    "import matplotlib.pyplot as plt\n",
    "from mpl_toolkits import mplot3d\n",
    "import numpy as np\n",
    "\n",
    "path_ = 'mnist_fmnist_2level_ctx_logs/'\n",
    "name1_ = 'run-tb_mnist_fmnist_c5_5_2level_ctx10_3_1-tag-Context_functools.partial__function_sample_mnist_img_fnc_at_0x20008d4d1320___'\n",
    "name2_ = 'run-tb_mnist_fmnist_c5_5_2level_ctx10_3_1-tag-Context_functools.partial__function_sample_fashion_mnist_img_fnc_at_0x20008d4d13b0___'\n",
    "\n",
    "data_all = []\n",
    "for label in range(5):\n",
    "    data = []\n",
    "    for dim in range(3):\n",
    "        ver = str(label)+'__'+str(dim)\n",
    "        filename = path_ + name1_+ ver + '.csv'\n",
    "        \n",
    "        csv = pd.read_csv(filename)\n",
    "        tensor = torch.tensor(csv.values)\n",
    "#         data.append(tensor[:,-1])\n",
    "        data.append(tensor[:763,-1]) # somehow the data does not have equal epoch number. (some are 764 some are 763)\n",
    "    \n",
    "    data_all.append(torch.stack(data))\n",
    "\n",
    "for label in range(5):\n",
    "    data = []\n",
    "    for dim in range(3):\n",
    "        ver = str(label)+'__'+str(dim)\n",
    "        filename = path_ + name2_+ ver + '.csv'\n",
    "        \n",
    "        csv = pd.read_csv(filename)\n",
    "        tensor = torch.tensor(csv.values)\n",
    "#         data.append(tensor[:,-1])\n",
    "        data.append(tensor[:763,-1]) # somehow the data does not have equal epoch number. (some are 764 some are 763)\n",
    "    \n",
    "    data_all.append(torch.stack(data))\n",
    "    \n",
    "data_all = torch.stack(data_all)\n",
    "time = tensor[:763,1].numpy()\n"
   ]
  },
  {
   "cell_type": "code",
   "execution_count": 8,
   "metadata": {},
   "outputs": [
    {
     "data": {
      "application/vnd.jupyter.widget-view+json": {
       "model_id": "b64ad0bae9d14154a68093117481a920",
       "version_major": 2,
       "version_minor": 0
      },
      "text/plain": [
       "Canvas(toolbar=Toolbar(toolitems=[('Home', 'Reset original view', 'home', 'home'), ('Back', 'Back to previous …"
      ]
     },
     "metadata": {},
     "output_type": "display_data"
    }
   ],
   "source": [
    "# Couldn't figure out how to make interactive plots - anyone? I thought there was a matplotlib magic that worked. \n",
    "\n",
    "%matplotlib widget\n",
    "# %matplotlib inline\n",
    "# %matplotlib notebook\n",
    "# %matplotlib qt\n",
    "\n",
    "# from IPython.display import HTML\n",
    "\n",
    "# plt.ion()\n",
    "fig = plt.figure()\n",
    "ax = plt.axes(projection='3d')\n",
    "\n",
    "# cmaps = [ 'Greys', 'Purples', 'Blues', 'Greens', 'Oranges', 'Reds',            'YlOrBr', 'YlOrRd', 'OrRd', 'PuRd', 'RdPu', 'BuPu',            'GnBu', 'PuBu', 'YlGnBu', 'PuBuGn', 'BuGn', 'YlGn']\n",
    "cmaps = ['Reds'] * 5 + ['Blues'] * 5\n",
    "\n",
    "for label in range(10): \n",
    "    xdata = data_all[label,0,:].squeeze().numpy()\n",
    "    ydata = data_all[label,1,:].squeeze().numpy()\n",
    "    zdata = data_all[label,2,:].squeeze().numpy()\n",
    "    \n",
    "    ax.scatter3D(xdata, ydata, zdata, c=time, cmap=cmaps[label]);\n",
    "    \n",
    "plt.show() "
   ]
  },
  {
   "cell_type": "code",
   "execution_count": null,
   "metadata": {},
   "outputs": [],
   "source": []
  }
 ],
 "metadata": {
  "kernelspec": {
   "display_name": "Python [conda env:pytorch3d] *",
   "language": "python",
   "name": "conda-env-pytorch3d-py"
  },
  "language_info": {
   "codemirror_mode": {
    "name": "ipython",
    "version": 3
   },
   "file_extension": ".py",
   "mimetype": "text/x-python",
   "name": "python",
   "nbconvert_exporter": "python",
   "pygments_lexer": "ipython3",
   "version": "3.8.3"
  }
 },
 "nbformat": 4,
 "nbformat_minor": 4
}
