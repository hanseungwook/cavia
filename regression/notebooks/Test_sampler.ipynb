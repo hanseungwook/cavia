{
 "cells": [
  {
   "cell_type": "code",
   "execution_count": 1,
   "metadata": {},
   "outputs": [],
   "source": [
    "class Test_sampler():\n",
    "    def __init__(self, task_fnc, input = None): \n",
    "        self.task_fnc  = task_fnc    # function that takes task label and returns actual tasks\n",
    "        self.input = input   \n",
    "\n",
    "    def get_data(self): \n",
    "        return self.input, self.task_fnc(self.input) \n",
    "\n",
    "\n",
    "def Partial_Test_sampler(task_fnc, input): \n",
    "    def make_partial_fnc(*params):\n",
    "        return Test_sampler(task_fnc = partial(task_fnc, *params), input = input)\n",
    "    return make_partial_fnc\n",
    "\n",
    "# simple level2 function (3 inputs)\n",
    "def test2_fnc(label, idx, xy):\n",
    "    print(label, idx, xy)\n",
    "\n",
    "    "
   ]
  },
  {
   "cell_type": "code",
   "execution_count": 2,
   "metadata": {},
   "outputs": [
    {
     "name": "stdout",
     "output_type": "stream",
     "text": [
      "test2\n",
      "1 435 tensor([[0.8016, 0.7398],\n",
      "        [0.1492, 0.9823],\n",
      "        [0.4818, 0.7952]])\n",
      "test2_task\n",
      "1 435 tensor([[0.8016, 0.7398],\n",
      "        [0.1492, 0.9823],\n",
      "        [0.4818, 0.7952]])\n",
      "test1_task\n",
      "1 435 tensor([[0.8016, 0.7398],\n",
      "        [0.1492, 0.9823],\n",
      "        [0.4818, 0.7952]])\n",
      "test0_task\n",
      "1 435 tensor([[0.8016, 0.7398],\n",
      "        [0.1492, 0.9823],\n",
      "        [0.4818, 0.7952]])\n"
     ]
    }
   ],
   "source": [
    "import torch\n",
    "from functools import partial\n",
    "label = 1; idx = 435; xy = torch.rand(3,2)\n",
    "\n",
    "print('test2')\n",
    "test2_fnc(label = label, idx = idx, xy = xy)\n",
    "\n",
    "\n",
    "# print('test2_xy')\n",
    "# test2_xy = partial(test2_fnc, xy = xy)\n",
    "# test2_xy(label = label, idx = idx)\n",
    "\n",
    "# print('test2_xy_idx')\n",
    "# test2_xy_idx = partial(test2_xy, idx = idx)\n",
    "# test2_xy_idx(label=label)\n",
    "\n",
    "\n",
    "print('test2_task')\n",
    "test0_task = Partial_Test_sampler(test2_fnc, input = xy)\n",
    "test1_task = Partial_Test_sampler(test0_task, input = idx)\n",
    "test2_task = Test_sampler(test1_task, input = label)\n",
    "\n",
    "label_, test1_Test_Sampler = test2_task.get_data()\n",
    "idx_,   test0_Test_Sampler = test1_Test_Sampler.get_data()\n",
    "inp_,   outp_              = test0_Test_Sampler.get_data()\n",
    "\n",
    "\n",
    "print('test1_task')\n",
    "idx_, test0_Test_Sampler = test1_task(label).get_data()\n",
    "xy,   outp_              = test0_Test_Sampler.get_data()\n",
    "\n",
    "print('test0_task')\n",
    "xy, test1_Test_Sampler = test0_task(label, idx).get_data()"
   ]
  },
  {
   "cell_type": "code",
   "execution_count": null,
   "metadata": {},
   "outputs": [],
   "source": []
  }
 ],
 "metadata": {
  "kernelspec": {
   "display_name": "Python 3.7.4 64-bit ('HRL': conda)",
   "language": "python",
   "name": "python37464bithrlconda354877dd682d47658cade7a87f9d6c42"
  },
  "language_info": {
   "codemirror_mode": {
    "name": "ipython",
    "version": 3
   },
   "file_extension": ".py",
   "mimetype": "text/x-python",
   "name": "python",
   "nbconvert_exporter": "python",
   "pygments_lexer": "ipython3",
   "version": "3.7.4"
  }
 },
 "nbformat": 4,
 "nbformat_minor": 4
}
