{
 "cells": [
  {
   "cell_type": "code",
   "execution_count": 16,
   "metadata": {},
   "outputs": [],
   "source": [
    "import copy\n",
    "import os\n",
    "import time\n",
    "import torch.nn as nn\n",
    "import numpy as np\n",
    "import scipy.stats as st\n",
    "import torch\n",
    "import torch.nn.functional as F\n",
    "import torch.optim as optim\n",
    "import matplotlib.pyplot as plt\n",
    "import utils\n",
    "import tasks_sine, tasks_celebA\n",
    "from models import CaviaModel, Model_Active, Encoder_Decoder, Onehot_Encoder\n",
    "from logger import Logger\n",
    "import pickle"
   ]
  },
  {
   "cell_type": "code",
   "execution_count": 17,
   "metadata": {},
   "outputs": [
    {
     "data": {
      "text/plain": [
       "<torch._C.Generator at 0x7fe70069a550>"
      ]
     },
     "execution_count": 17,
     "metadata": {},
     "output_type": "execute_result"
    }
   ],
   "source": [
    "# Set seed\n",
    "np.random.seed(5)\n",
    "torch.manual_seed(5)"
   ]
  },
  {
   "cell_type": "code",
   "execution_count": 18,
   "metadata": {},
   "outputs": [],
   "source": [
    "# Meta train, if necessary\n",
    "# Cavia model\n",
    "# !python3 main.py --model_type='CAVIA' --n_iter=1000 --logger_save_file=loggers/logger_cavia_2context_lr0.01 --num_context_params=2 --lr_inner=0.01\n",
    "# ACTIVE model\n",
    "# !python3 main.py --model_type='ACTIVE' --n_iter=1000 --logger_save_file=loggers/logger_1level_2context_lr0.01 --num_context_params=2 --lr_inner=0.001"
   ]
  },
  {
   "cell_type": "code",
   "execution_count": 19,
   "metadata": {},
   "outputs": [],
   "source": [
    "# Set hyperparameters\n",
    "N_CONTEXT = 2\n",
    "N_TASK = 1\n",
    "N_BATCH_TRAIN = 10\n",
    "N_BATCH_TEST = 100\n",
    "MAX_ITER = 100\n",
    "LR = 0.01\n",
    "N_NEW_TASKS = 1000\n",
    "NUM_STEPS = 20"
   ]
  },
  {
   "cell_type": "code",
   "execution_count": 21,
   "metadata": {},
   "outputs": [
    {
     "data": {
      "text/plain": [
       "<All keys matched successfully>"
      ]
     },
     "execution_count": 21,
     "metadata": {},
     "output_type": "execute_result"
    }
   ],
   "source": [
    "#Load meta-trained model\n",
    "model = Model_Active(n_arch=[1,40,40,1],\n",
    "                     n_context=N_CONTEXT,\n",
    "                     gain_w=1,\n",
    "                     gain_b=1,\n",
    "                     device='cpu')\n",
    "# model = CaviaModel(n_in=1,\n",
    "#                    n_out=1,\n",
    "#                    num_context_params=2,\n",
    "#                    n_hidden=[40,40],\n",
    "#                    device='cpu')\n",
    "logger = pickle.load(open('../loggers/logger_1level_2context_lr0.01', 'rb'))\n",
    "model.load_state_dict(logger.best_valid_model.state_dict())"
   ]
  },
  {
   "cell_type": "code",
   "execution_count": 27,
   "metadata": {},
   "outputs": [],
   "source": [
    "# Returns meta-test-train and meta-test-test losses after each 1..NUM_STEPS inner context update\n",
    "def meta_test_loss_random_task(model, tasks, num_train=10, num_test=100, optim=torch.optim.SGD):\n",
    "    criterion = nn.MSELoss()\n",
    "    context = model.reset_context()\n",
    "    context = nn.Parameter(context)\n",
    "    optimizer = optim([context], lr=LR)\n",
    "    \n",
    "    # Sample a random task and generate train & test data\n",
    "    target_function = tasks.sample_tasks(num_tasks=1)[0]\n",
    "    \n",
    "    train_inputs = tasks.sample_inputs(N_BATCH_TRAIN)\n",
    "    train_targets = target_function(train_inputs)\n",
    "    \n",
    "    test_inputs = tasks.sample_inputs(N_BATCH_TEST)\n",
    "    test_targets = target_function(test_inputs)\n",
    "    \n",
    "    train_losses = []\n",
    "    test_losses = []\n",
    "    \n",
    "    \n",
    "    for step in range(NUM_STEPS):\n",
    "        train_loss = criterion(model(train_inputs, context), train_targets)\n",
    "        train_losses.append(train_loss.item())\n",
    "        \n",
    "        # Compute grad and update context params\n",
    "        optimizer.zero_grad()\n",
    "        train_loss.backward()\n",
    "        optimizer.step()\n",
    "        \n",
    "        test_loss = criterion(model(test_inputs, context), test_targets)\n",
    "        test_losses.append(test_loss.item())\n",
    "    \n",
    "    return train_losses, test_losses"
   ]
  },
  {
   "cell_type": "code",
   "execution_count": 29,
   "metadata": {},
   "outputs": [],
   "source": [
    "sinusoid_tasks = tasks_sine.RegressionTasksSinusoidal()\n",
    "\n",
    "total_train_losses = []\n",
    "total_test_losses = []\n",
    "avg_train_losses = []\n",
    "avg_test_losses = []\n",
    "\n",
    "# Collate meta test-train and meta test-test losses for new tasks\n",
    "for t in range(N_NEW_TASKS):\n",
    "    train_losses, test_losses = meta_test_loss_random_task(copy.deepcopy(model), sinusoid_tasks, num_train=N_BATCH_TRAIN, num_test=N_BATCH_TEST)\n",
    "    total_train_losses.append(train_losses)\n",
    "    total_test_losses.append(test_losses)\n",
    "    \n",
    "# Calculate average losses after each update\n",
    "for i in range(NUM_STEPS):\n",
    "    avg_train_loss = torch.mean(torch.tensor([l[i] for l in total_train_losses]).float())\n",
    "    avg_test_loss = torch.mean(torch.tensor([l[i] for l in total_test_losses]).float())\n",
    "    \n",
    "    avg_train_losses.append(avg_train_loss)\n",
    "    avg_test_losses.append(avg_test_loss)\n"
   ]
  },
  {
   "cell_type": "code",
   "execution_count": 30,
   "metadata": {},
   "outputs": [
    {
     "data": {
      "text/plain": [
       "<matplotlib.legend.Legend at 0x7fe6980431d0>"
      ]
     },
     "execution_count": 30,
     "metadata": {},
     "output_type": "execute_result"
    },
    {
     "data": {
      "image/png": "[encoded data removed]",
      "text/plain": [
       "<Figure size 432x288 with 1 Axes>"
      ]
     },
     "metadata": {
      "needs_background": "light"
     },
     "output_type": "display_data"
    }
   ],
   "source": [
    "# Plot\n",
    "plt.plot(list(range(1, NUM_STEPS+1)), avg_train_losses, label='Meta test-train loss')\n",
    "plt.plot(list(range(1, NUM_STEPS+1)), avg_test_losses, label='Meta test-test loss')\n",
    "plt.legend(loc='upper right')"
   ]
  },
  {
   "cell_type": "code",
   "execution_count": 28,
   "metadata": {},
   "outputs": [
    {
     "data": {
      "text/plain": [
       "0.01"
      ]
     },
     "execution_count": 28,
     "metadata": {},
     "output_type": "execute_result"
    }
   ],
   "source": [
    "LR"
   ]
  },
  {
   "cell_type": "code",
   "execution_count": 31,
   "metadata": {},
   "outputs": [
    {
     "data": {
      "text/plain": [
       "(0, 3)"
      ]
     },
     "execution_count": 31,
     "metadata": {},
     "output_type": "execute_result"
    },
    {
     "data": {
      "image/png": "[encoded data removed]",
      "text/plain": [
       "<Figure size 432x288 with 1 Axes>"
      ]
     },
     "metadata": {
      "needs_background": "light"
     },
     "output_type": "display_data"
    }
   ],
   "source": [
    "plt.plot(logger.train_loss, label='meta train-train')\n",
    "plt.plot(logger.test_loss, label='meta train-test')\n",
    "plt.plot(logger.valid_loss, label='meta train-valid')\n",
    "plt.legend('upper right')\n",
    "plt.ylim(0, 3)"
   ]
  },
  {
   "cell_type": "code",
   "execution_count": 15,
   "metadata": {},
   "outputs": [
    {
     "data": {
      "text/plain": [
       "0.01"
      ]
     },
     "execution_count": 15,
     "metadata": {},
     "output_type": "execute_result"
    }
   ],
   "source": [
    "LR"
   ]
  },
  {
   "cell_type": "code",
   "execution_count": null,
   "metadata": {},
   "outputs": [],
   "source": []
  },
  {
   "cell_type": "code",
   "execution_count": null,
   "metadata": {},
   "outputs": [],
   "source": []
  }
 ],
 "metadata": {
  "file_extension": ".py",
  "kernelspec": {
   "display_name": "Python 3",
   "language": "python",
   "name": "python3"
  },
  "language_info": {
   "codemirror_mode": {
    "name": "ipython",
    "version": 3
   },
   "file_extension": ".py",
   "mimetype": "text/x-python",
   "name": "python",
   "nbconvert_exporter": "python",
   "pygments_lexer": "ipython3",
   "version": "3.6.10"
  },
  "mimetype": "text/x-python",
  "name": "python",
  "npconvert_exporter": "python",
  "pygments_lexer": "ipython3",
  "version": 3
 },
 "nbformat": 4,
 "nbformat_minor": 4
}
